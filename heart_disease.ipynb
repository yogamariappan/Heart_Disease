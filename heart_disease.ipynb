{
  "nbformat": 4,
  "nbformat_minor": 0,
  "metadata": {
    "colab": {
      "provenance": []
    },
    "kernelspec": {
      "name": "python3",
      "display_name": "Python 3"
    },
    "language_info": {
      "name": "python"
    }
  },
  "cells": [
    {
      "cell_type": "code",
      "execution_count": null,
      "metadata": {
        "id": "HGNQj-rj1f_E"
      },
      "outputs": [],
      "source": [
        "\n",
        "import numpy as np\n",
        "import pandas as pd\n",
        "import statistics as st\n",
        "import matplotlib.pyplot as plt\n",
        "import seaborn as sns"
      ]
    },
    {
      "cell_type": "code",
      "source": [
        "df=pd.read_csv(\"/content/heart.csv\")\n",
        "df"
      ],
      "metadata": {
        "colab": {
          "base_uri": "https://localhost:8080/",
          "height": 424
        },
        "id": "2wqQoE3o2KR5",
        "outputId": "6cfa84b8-1fb5-4752-9e25-bbeee201018e"
      },
      "execution_count": null,
      "outputs": [
        {
          "output_type": "execute_result",
          "data": {
            "text/plain": [
              "     age  sex  cp  trestbps  chol  fbs  restecg  thalach  exang  oldpeak  \\\n",
              "0     63    1   3       145   233    1        0      150      0      2.3   \n",
              "1     37    1   2       130   250    0        1      187      0      3.5   \n",
              "2     41    0   1       130   204    0        0      172      0      1.4   \n",
              "3     56    1   1       120   236    0        1      178      0      0.8   \n",
              "4     57    0   0       120   354    0        1      163      1      0.6   \n",
              "..   ...  ...  ..       ...   ...  ...      ...      ...    ...      ...   \n",
              "298   57    0   0       140   241    0        1      123      1      0.2   \n",
              "299   45    1   3       110   264    0        1      132      0      1.2   \n",
              "300   68    1   0       144   193    1        1      141      0      3.4   \n",
              "301   57    1   0       130   131    0        1      115      1      1.2   \n",
              "302   57    0   1       130   236    0        0      174      0      0.0   \n",
              "\n",
              "     slope  ca  thal  target  \n",
              "0        0   0     1       1  \n",
              "1        0   0     2       1  \n",
              "2        2   0     2       1  \n",
              "3        2   0     2       1  \n",
              "4        2   0     2       1  \n",
              "..     ...  ..   ...     ...  \n",
              "298      1   0     3       0  \n",
              "299      1   0     3       0  \n",
              "300      1   2     3       0  \n",
              "301      1   1     3       0  \n",
              "302      1   1     2       0  \n",
              "\n",
              "[303 rows x 14 columns]"
            ],
            "text/html": [
              "\n",
              "  <div id=\"df-d6a019f1-7077-44ae-bb5c-dccabadc0c39\" class=\"colab-df-container\">\n",
              "    <div>\n",
              "<style scoped>\n",
              "    .dataframe tbody tr th:only-of-type {\n",
              "        vertical-align: middle;\n",
              "    }\n",
              "\n",
              "    .dataframe tbody tr th {\n",
              "        vertical-align: top;\n",
              "    }\n",
              "\n",
              "    .dataframe thead th {\n",
              "        text-align: right;\n",
              "    }\n",
              "</style>\n",
              "<table border=\"1\" class=\"dataframe\">\n",
              "  <thead>\n",
              "    <tr style=\"text-align: right;\">\n",
              "      <th></th>\n",
              "      <th>age</th>\n",
              "      <th>sex</th>\n",
              "      <th>cp</th>\n",
              "      <th>trestbps</th>\n",
              "      <th>chol</th>\n",
              "      <th>fbs</th>\n",
              "      <th>restecg</th>\n",
              "      <th>thalach</th>\n",
              "      <th>exang</th>\n",
              "      <th>oldpeak</th>\n",
              "      <th>slope</th>\n",
              "      <th>ca</th>\n",
              "      <th>thal</th>\n",
              "      <th>target</th>\n",
              "    </tr>\n",
              "  </thead>\n",
              "  <tbody>\n",
              "    <tr>\n",
              "      <th>0</th>\n",
              "      <td>63</td>\n",
              "      <td>1</td>\n",
              "      <td>3</td>\n",
              "      <td>145</td>\n",
              "      <td>233</td>\n",
              "      <td>1</td>\n",
              "      <td>0</td>\n",
              "      <td>150</td>\n",
              "      <td>0</td>\n",
              "      <td>2.3</td>\n",
              "      <td>0</td>\n",
              "      <td>0</td>\n",
              "      <td>1</td>\n",
              "      <td>1</td>\n",
              "    </tr>\n",
              "    <tr>\n",
              "      <th>1</th>\n",
              "      <td>37</td>\n",
              "      <td>1</td>\n",
              "      <td>2</td>\n",
              "      <td>130</td>\n",
              "      <td>250</td>\n",
              "      <td>0</td>\n",
              "      <td>1</td>\n",
              "      <td>187</td>\n",
              "      <td>0</td>\n",
              "      <td>3.5</td>\n",
              "      <td>0</td>\n",
              "      <td>0</td>\n",
              "      <td>2</td>\n",
              "      <td>1</td>\n",
              "    </tr>\n",
              "    <tr>\n",
              "      <th>2</th>\n",
              "      <td>41</td>\n",
              "      <td>0</td>\n",
              "      <td>1</td>\n",
              "      <td>130</td>\n",
              "      <td>204</td>\n",
              "      <td>0</td>\n",
              "      <td>0</td>\n",
              "      <td>172</td>\n",
              "      <td>0</td>\n",
              "      <td>1.4</td>\n",
              "      <td>2</td>\n",
              "      <td>0</td>\n",
              "      <td>2</td>\n",
              "      <td>1</td>\n",
              "    </tr>\n",
              "    <tr>\n",
              "      <th>3</th>\n",
              "      <td>56</td>\n",
              "      <td>1</td>\n",
              "      <td>1</td>\n",
              "      <td>120</td>\n",
              "      <td>236</td>\n",
              "      <td>0</td>\n",
              "      <td>1</td>\n",
              "      <td>178</td>\n",
              "      <td>0</td>\n",
              "      <td>0.8</td>\n",
              "      <td>2</td>\n",
              "      <td>0</td>\n",
              "      <td>2</td>\n",
              "      <td>1</td>\n",
              "    </tr>\n",
              "    <tr>\n",
              "      <th>4</th>\n",
              "      <td>57</td>\n",
              "      <td>0</td>\n",
              "      <td>0</td>\n",
              "      <td>120</td>\n",
              "      <td>354</td>\n",
              "      <td>0</td>\n",
              "      <td>1</td>\n",
              "      <td>163</td>\n",
              "      <td>1</td>\n",
              "      <td>0.6</td>\n",
              "      <td>2</td>\n",
              "      <td>0</td>\n",
              "      <td>2</td>\n",
              "      <td>1</td>\n",
              "    </tr>\n",
              "    <tr>\n",
              "      <th>...</th>\n",
              "      <td>...</td>\n",
              "      <td>...</td>\n",
              "      <td>...</td>\n",
              "      <td>...</td>\n",
              "      <td>...</td>\n",
              "      <td>...</td>\n",
              "      <td>...</td>\n",
              "      <td>...</td>\n",
              "      <td>...</td>\n",
              "      <td>...</td>\n",
              "      <td>...</td>\n",
              "      <td>...</td>\n",
              "      <td>...</td>\n",
              "      <td>...</td>\n",
              "    </tr>\n",
              "    <tr>\n",
              "      <th>298</th>\n",
              "      <td>57</td>\n",
              "      <td>0</td>\n",
              "      <td>0</td>\n",
              "      <td>140</td>\n",
              "      <td>241</td>\n",
              "      <td>0</td>\n",
              "      <td>1</td>\n",
              "      <td>123</td>\n",
              "      <td>1</td>\n",
              "      <td>0.2</td>\n",
              "      <td>1</td>\n",
              "      <td>0</td>\n",
              "      <td>3</td>\n",
              "      <td>0</td>\n",
              "    </tr>\n",
              "    <tr>\n",
              "      <th>299</th>\n",
              "      <td>45</td>\n",
              "      <td>1</td>\n",
              "      <td>3</td>\n",
              "      <td>110</td>\n",
              "      <td>264</td>\n",
              "      <td>0</td>\n",
              "      <td>1</td>\n",
              "      <td>132</td>\n",
              "      <td>0</td>\n",
              "      <td>1.2</td>\n",
              "      <td>1</td>\n",
              "      <td>0</td>\n",
              "      <td>3</td>\n",
              "      <td>0</td>\n",
              "    </tr>\n",
              "    <tr>\n",
              "      <th>300</th>\n",
              "      <td>68</td>\n",
              "      <td>1</td>\n",
              "      <td>0</td>\n",
              "      <td>144</td>\n",
              "      <td>193</td>\n",
              "      <td>1</td>\n",
              "      <td>1</td>\n",
              "      <td>141</td>\n",
              "      <td>0</td>\n",
              "      <td>3.4</td>\n",
              "      <td>1</td>\n",
              "      <td>2</td>\n",
              "      <td>3</td>\n",
              "      <td>0</td>\n",
              "    </tr>\n",
              "    <tr>\n",
              "      <th>301</th>\n",
              "      <td>57</td>\n",
              "      <td>1</td>\n",
              "      <td>0</td>\n",
              "      <td>130</td>\n",
              "      <td>131</td>\n",
              "      <td>0</td>\n",
              "      <td>1</td>\n",
              "      <td>115</td>\n",
              "      <td>1</td>\n",
              "      <td>1.2</td>\n",
              "      <td>1</td>\n",
              "      <td>1</td>\n",
              "      <td>3</td>\n",
              "      <td>0</td>\n",
              "    </tr>\n",
              "    <tr>\n",
              "      <th>302</th>\n",
              "      <td>57</td>\n",
              "      <td>0</td>\n",
              "      <td>1</td>\n",
              "      <td>130</td>\n",
              "      <td>236</td>\n",
              "      <td>0</td>\n",
              "      <td>0</td>\n",
              "      <td>174</td>\n",
              "      <td>0</td>\n",
              "      <td>0.0</td>\n",
              "      <td>1</td>\n",
              "      <td>1</td>\n",
              "      <td>2</td>\n",
              "      <td>0</td>\n",
              "    </tr>\n",
              "  </tbody>\n",
              "</table>\n",
              "<p>303 rows × 14 columns</p>\n",
              "</div>\n",
              "    <div class=\"colab-df-buttons\">\n",
              "\n",
              "  <div class=\"colab-df-container\">\n",
              "    <button class=\"colab-df-convert\" onclick=\"convertToInteractive('df-d6a019f1-7077-44ae-bb5c-dccabadc0c39')\"\n",
              "            title=\"Convert this dataframe to an interactive table.\"\n",
              "            style=\"display:none;\">\n",
              "\n",
              "  <svg xmlns=\"http://www.w3.org/2000/svg\" height=\"24px\" viewBox=\"0 -960 960 960\">\n",
              "    <path d=\"M120-120v-720h720v720H120Zm60-500h600v-160H180v160Zm220 220h160v-160H400v160Zm0 220h160v-160H400v160ZM180-400h160v-160H180v160Zm440 0h160v-160H620v160ZM180-180h160v-160H180v160Zm440 0h160v-160H620v160Z\"/>\n",
              "  </svg>\n",
              "    </button>\n",
              "\n",
              "  <style>\n",
              "    .colab-df-container {\n",
              "      display:flex;\n",
              "      gap: 12px;\n",
              "    }\n",
              "\n",
              "    .colab-df-convert {\n",
              "      background-color: #E8F0FE;\n",
              "      border: none;\n",
              "      border-radius: 50%;\n",
              "      cursor: pointer;\n",
              "      display: none;\n",
              "      fill: #1967D2;\n",
              "      height: 32px;\n",
              "      padding: 0 0 0 0;\n",
              "      width: 32px;\n",
              "    }\n",
              "\n",
              "    .colab-df-convert:hover {\n",
              "      background-color: #E2EBFA;\n",
              "      box-shadow: 0px 1px 2px rgba(60, 64, 67, 0.3), 0px 1px 3px 1px rgba(60, 64, 67, 0.15);\n",
              "      fill: #174EA6;\n",
              "    }\n",
              "\n",
              "    .colab-df-buttons div {\n",
              "      margin-bottom: 4px;\n",
              "    }\n",
              "\n",
              "    [theme=dark] .colab-df-convert {\n",
              "      background-color: #3B4455;\n",
              "      fill: #D2E3FC;\n",
              "    }\n",
              "\n",
              "    [theme=dark] .colab-df-convert:hover {\n",
              "      background-color: #434B5C;\n",
              "      box-shadow: 0px 1px 3px 1px rgba(0, 0, 0, 0.15);\n",
              "      filter: drop-shadow(0px 1px 2px rgba(0, 0, 0, 0.3));\n",
              "      fill: #FFFFFF;\n",
              "    }\n",
              "  </style>\n",
              "\n",
              "    <script>\n",
              "      const buttonEl =\n",
              "        document.querySelector('#df-d6a019f1-7077-44ae-bb5c-dccabadc0c39 button.colab-df-convert');\n",
              "      buttonEl.style.display =\n",
              "        google.colab.kernel.accessAllowed ? 'block' : 'none';\n",
              "\n",
              "      async function convertToInteractive(key) {\n",
              "        const element = document.querySelector('#df-d6a019f1-7077-44ae-bb5c-dccabadc0c39');\n",
              "        const dataTable =\n",
              "          await google.colab.kernel.invokeFunction('convertToInteractive',\n",
              "                                                    [key], {});\n",
              "        if (!dataTable) return;\n",
              "\n",
              "        const docLinkHtml = 'Like what you see? Visit the ' +\n",
              "          '<a target=\"_blank\" href=https://colab.research.google.com/notebooks/data_table.ipynb>data table notebook</a>'\n",
              "          + ' to learn more about interactive tables.';\n",
              "        element.innerHTML = '';\n",
              "        dataTable['output_type'] = 'display_data';\n",
              "        await google.colab.output.renderOutput(dataTable, element);\n",
              "        const docLink = document.createElement('div');\n",
              "        docLink.innerHTML = docLinkHtml;\n",
              "        element.appendChild(docLink);\n",
              "      }\n",
              "    </script>\n",
              "  </div>\n",
              "\n",
              "\n",
              "<div id=\"df-acfe99e8-aef5-4992-96bc-7713d1bcfd0e\">\n",
              "  <button class=\"colab-df-quickchart\" onclick=\"quickchart('df-acfe99e8-aef5-4992-96bc-7713d1bcfd0e')\"\n",
              "            title=\"Suggest charts\"\n",
              "            style=\"display:none;\">\n",
              "\n",
              "<svg xmlns=\"http://www.w3.org/2000/svg\" height=\"24px\"viewBox=\"0 0 24 24\"\n",
              "     width=\"24px\">\n",
              "    <g>\n",
              "        <path d=\"M19 3H5c-1.1 0-2 .9-2 2v14c0 1.1.9 2 2 2h14c1.1 0 2-.9 2-2V5c0-1.1-.9-2-2-2zM9 17H7v-7h2v7zm4 0h-2V7h2v10zm4 0h-2v-4h2v4z\"/>\n",
              "    </g>\n",
              "</svg>\n",
              "  </button>\n",
              "\n",
              "<style>\n",
              "  .colab-df-quickchart {\n",
              "      --bg-color: #E8F0FE;\n",
              "      --fill-color: #1967D2;\n",
              "      --hover-bg-color: #E2EBFA;\n",
              "      --hover-fill-color: #174EA6;\n",
              "      --disabled-fill-color: #AAA;\n",
              "      --disabled-bg-color: #DDD;\n",
              "  }\n",
              "\n",
              "  [theme=dark] .colab-df-quickchart {\n",
              "      --bg-color: #3B4455;\n",
              "      --fill-color: #D2E3FC;\n",
              "      --hover-bg-color: #434B5C;\n",
              "      --hover-fill-color: #FFFFFF;\n",
              "      --disabled-bg-color: #3B4455;\n",
              "      --disabled-fill-color: #666;\n",
              "  }\n",
              "\n",
              "  .colab-df-quickchart {\n",
              "    background-color: var(--bg-color);\n",
              "    border: none;\n",
              "    border-radius: 50%;\n",
              "    cursor: pointer;\n",
              "    display: none;\n",
              "    fill: var(--fill-color);\n",
              "    height: 32px;\n",
              "    padding: 0;\n",
              "    width: 32px;\n",
              "  }\n",
              "\n",
              "  .colab-df-quickchart:hover {\n",
              "    background-color: var(--hover-bg-color);\n",
              "    box-shadow: 0 1px 2px rgba(60, 64, 67, 0.3), 0 1px 3px 1px rgba(60, 64, 67, 0.15);\n",
              "    fill: var(--button-hover-fill-color);\n",
              "  }\n",
              "\n",
              "  .colab-df-quickchart-complete:disabled,\n",
              "  .colab-df-quickchart-complete:disabled:hover {\n",
              "    background-color: var(--disabled-bg-color);\n",
              "    fill: var(--disabled-fill-color);\n",
              "    box-shadow: none;\n",
              "  }\n",
              "\n",
              "  .colab-df-spinner {\n",
              "    border: 2px solid var(--fill-color);\n",
              "    border-color: transparent;\n",
              "    border-bottom-color: var(--fill-color);\n",
              "    animation:\n",
              "      spin 1s steps(1) infinite;\n",
              "  }\n",
              "\n",
              "  @keyframes spin {\n",
              "    0% {\n",
              "      border-color: transparent;\n",
              "      border-bottom-color: var(--fill-color);\n",
              "      border-left-color: var(--fill-color);\n",
              "    }\n",
              "    20% {\n",
              "      border-color: transparent;\n",
              "      border-left-color: var(--fill-color);\n",
              "      border-top-color: var(--fill-color);\n",
              "    }\n",
              "    30% {\n",
              "      border-color: transparent;\n",
              "      border-left-color: var(--fill-color);\n",
              "      border-top-color: var(--fill-color);\n",
              "      border-right-color: var(--fill-color);\n",
              "    }\n",
              "    40% {\n",
              "      border-color: transparent;\n",
              "      border-right-color: var(--fill-color);\n",
              "      border-top-color: var(--fill-color);\n",
              "    }\n",
              "    60% {\n",
              "      border-color: transparent;\n",
              "      border-right-color: var(--fill-color);\n",
              "    }\n",
              "    80% {\n",
              "      border-color: transparent;\n",
              "      border-right-color: var(--fill-color);\n",
              "      border-bottom-color: var(--fill-color);\n",
              "    }\n",
              "    90% {\n",
              "      border-color: transparent;\n",
              "      border-bottom-color: var(--fill-color);\n",
              "    }\n",
              "  }\n",
              "</style>\n",
              "\n",
              "  <script>\n",
              "    async function quickchart(key) {\n",
              "      const quickchartButtonEl =\n",
              "        document.querySelector('#' + key + ' button');\n",
              "      quickchartButtonEl.disabled = true;  // To prevent multiple clicks.\n",
              "      quickchartButtonEl.classList.add('colab-df-spinner');\n",
              "      try {\n",
              "        const charts = await google.colab.kernel.invokeFunction(\n",
              "            'suggestCharts', [key], {});\n",
              "      } catch (error) {\n",
              "        console.error('Error during call to suggestCharts:', error);\n",
              "      }\n",
              "      quickchartButtonEl.classList.remove('colab-df-spinner');\n",
              "      quickchartButtonEl.classList.add('colab-df-quickchart-complete');\n",
              "    }\n",
              "    (() => {\n",
              "      let quickchartButtonEl =\n",
              "        document.querySelector('#df-acfe99e8-aef5-4992-96bc-7713d1bcfd0e button');\n",
              "      quickchartButtonEl.style.display =\n",
              "        google.colab.kernel.accessAllowed ? 'block' : 'none';\n",
              "    })();\n",
              "  </script>\n",
              "</div>\n",
              "    </div>\n",
              "  </div>\n"
            ]
          },
          "metadata": {},
          "execution_count": 2
        }
      ]
    },
    {
      "cell_type": "markdown",
      "source": [
        "# **Exploratort Data Analysis (EDA)**"
      ],
      "metadata": {
        "id": "TRGKqZ_S4enH"
      }
    },
    {
      "cell_type": "code",
      "source": [
        "df.shape"
      ],
      "metadata": {
        "colab": {
          "base_uri": "https://localhost:8080/"
        },
        "id": "NQaROBP04hDI",
        "outputId": "d7ae6683-5ea7-4322-bde2-3bce1a8dba15"
      },
      "execution_count": null,
      "outputs": [
        {
          "output_type": "execute_result",
          "data": {
            "text/plain": [
              "(303, 14)"
            ]
          },
          "metadata": {},
          "execution_count": 3
        }
      ]
    },
    {
      "cell_type": "code",
      "source": [
        "df.columns"
      ],
      "metadata": {
        "colab": {
          "base_uri": "https://localhost:8080/"
        },
        "id": "wq5B4L4849ZQ",
        "outputId": "9f8a1eb4-4baf-43ff-d28c-2a810822e65b"
      },
      "execution_count": null,
      "outputs": [
        {
          "output_type": "execute_result",
          "data": {
            "text/plain": [
              "Index(['age', 'sex', 'cp', 'trestbps', 'chol', 'fbs', 'restecg', 'thalach',\n",
              "       'exang', 'oldpeak', 'slope', 'ca', 'thal', 'target'],\n",
              "      dtype='object')"
            ]
          },
          "metadata": {},
          "execution_count": 4
        }
      ]
    },
    {
      "cell_type": "code",
      "source": [
        "df.isnull().sum()"
      ],
      "metadata": {
        "colab": {
          "base_uri": "https://localhost:8080/"
        },
        "id": "sULdmSod5CtP",
        "outputId": "4181f17c-e6b3-40a9-d667-8d29574d9ee2"
      },
      "execution_count": null,
      "outputs": [
        {
          "output_type": "execute_result",
          "data": {
            "text/plain": [
              "age         0\n",
              "sex         0\n",
              "cp          0\n",
              "trestbps    0\n",
              "chol        0\n",
              "fbs         0\n",
              "restecg     0\n",
              "thalach     0\n",
              "exang       0\n",
              "oldpeak     0\n",
              "slope       0\n",
              "ca          0\n",
              "thal        0\n",
              "target      0\n",
              "dtype: int64"
            ]
          },
          "metadata": {},
          "execution_count": 7
        }
      ]
    },
    {
      "cell_type": "code",
      "source": [
        "df.info()"
      ],
      "metadata": {
        "colab": {
          "base_uri": "https://localhost:8080/"
        },
        "id": "uiEO8Kgs5OdI",
        "outputId": "cecde214-0713-43b5-cd4c-2551218b3e4d"
      },
      "execution_count": null,
      "outputs": [
        {
          "output_type": "stream",
          "name": "stdout",
          "text": [
            "<class 'pandas.core.frame.DataFrame'>\n",
            "RangeIndex: 303 entries, 0 to 302\n",
            "Data columns (total 14 columns):\n",
            " #   Column    Non-Null Count  Dtype  \n",
            "---  ------    --------------  -----  \n",
            " 0   age       303 non-null    int64  \n",
            " 1   sex       303 non-null    int64  \n",
            " 2   cp        303 non-null    int64  \n",
            " 3   trestbps  303 non-null    int64  \n",
            " 4   chol      303 non-null    int64  \n",
            " 5   fbs       303 non-null    int64  \n",
            " 6   restecg   303 non-null    int64  \n",
            " 7   thalach   303 non-null    int64  \n",
            " 8   exang     303 non-null    int64  \n",
            " 9   oldpeak   303 non-null    float64\n",
            " 10  slope     303 non-null    int64  \n",
            " 11  ca        303 non-null    int64  \n",
            " 12  thal      303 non-null    int64  \n",
            " 13  target    303 non-null    int64  \n",
            "dtypes: float64(1), int64(13)\n",
            "memory usage: 33.3 KB\n"
          ]
        }
      ]
    },
    {
      "cell_type": "code",
      "source": [
        "df.describe()"
      ],
      "metadata": {
        "colab": {
          "base_uri": "https://localhost:8080/",
          "height": 300
        },
        "id": "KoDNrSrM5VYy",
        "outputId": "f2c7eecb-2493-49a4-f252-ee48312991c4"
      },
      "execution_count": null,
      "outputs": [
        {
          "output_type": "execute_result",
          "data": {
            "text/plain": [
              "              age         sex          cp    trestbps        chol         fbs  \\\n",
              "count  303.000000  303.000000  303.000000  303.000000  303.000000  303.000000   \n",
              "mean    54.366337    0.683168    0.966997  131.623762  246.264026    0.148515   \n",
              "std      9.082101    0.466011    1.032052   17.538143   51.830751    0.356198   \n",
              "min     29.000000    0.000000    0.000000   94.000000  126.000000    0.000000   \n",
              "25%     47.500000    0.000000    0.000000  120.000000  211.000000    0.000000   \n",
              "50%     55.000000    1.000000    1.000000  130.000000  240.000000    0.000000   \n",
              "75%     61.000000    1.000000    2.000000  140.000000  274.500000    0.000000   \n",
              "max     77.000000    1.000000    3.000000  200.000000  564.000000    1.000000   \n",
              "\n",
              "          restecg     thalach       exang     oldpeak       slope          ca  \\\n",
              "count  303.000000  303.000000  303.000000  303.000000  303.000000  303.000000   \n",
              "mean     0.528053  149.646865    0.326733    1.039604    1.399340    0.729373   \n",
              "std      0.525860   22.905161    0.469794    1.161075    0.616226    1.022606   \n",
              "min      0.000000   71.000000    0.000000    0.000000    0.000000    0.000000   \n",
              "25%      0.000000  133.500000    0.000000    0.000000    1.000000    0.000000   \n",
              "50%      1.000000  153.000000    0.000000    0.800000    1.000000    0.000000   \n",
              "75%      1.000000  166.000000    1.000000    1.600000    2.000000    1.000000   \n",
              "max      2.000000  202.000000    1.000000    6.200000    2.000000    4.000000   \n",
              "\n",
              "             thal      target  \n",
              "count  303.000000  303.000000  \n",
              "mean     2.313531    0.544554  \n",
              "std      0.612277    0.498835  \n",
              "min      0.000000    0.000000  \n",
              "25%      2.000000    0.000000  \n",
              "50%      2.000000    1.000000  \n",
              "75%      3.000000    1.000000  \n",
              "max      3.000000    1.000000  "
            ],
            "text/html": [
              "\n",
              "  <div id=\"df-2e2b4696-84ba-4b2d-8c4d-0bb174612e3f\" class=\"colab-df-container\">\n",
              "    <div>\n",
              "<style scoped>\n",
              "    .dataframe tbody tr th:only-of-type {\n",
              "        vertical-align: middle;\n",
              "    }\n",
              "\n",
              "    .dataframe tbody tr th {\n",
              "        vertical-align: top;\n",
              "    }\n",
              "\n",
              "    .dataframe thead th {\n",
              "        text-align: right;\n",
              "    }\n",
              "</style>\n",
              "<table border=\"1\" class=\"dataframe\">\n",
              "  <thead>\n",
              "    <tr style=\"text-align: right;\">\n",
              "      <th></th>\n",
              "      <th>age</th>\n",
              "      <th>sex</th>\n",
              "      <th>cp</th>\n",
              "      <th>trestbps</th>\n",
              "      <th>chol</th>\n",
              "      <th>fbs</th>\n",
              "      <th>restecg</th>\n",
              "      <th>thalach</th>\n",
              "      <th>exang</th>\n",
              "      <th>oldpeak</th>\n",
              "      <th>slope</th>\n",
              "      <th>ca</th>\n",
              "      <th>thal</th>\n",
              "      <th>target</th>\n",
              "    </tr>\n",
              "  </thead>\n",
              "  <tbody>\n",
              "    <tr>\n",
              "      <th>count</th>\n",
              "      <td>303.000000</td>\n",
              "      <td>303.000000</td>\n",
              "      <td>303.000000</td>\n",
              "      <td>303.000000</td>\n",
              "      <td>303.000000</td>\n",
              "      <td>303.000000</td>\n",
              "      <td>303.000000</td>\n",
              "      <td>303.000000</td>\n",
              "      <td>303.000000</td>\n",
              "      <td>303.000000</td>\n",
              "      <td>303.000000</td>\n",
              "      <td>303.000000</td>\n",
              "      <td>303.000000</td>\n",
              "      <td>303.000000</td>\n",
              "    </tr>\n",
              "    <tr>\n",
              "      <th>mean</th>\n",
              "      <td>54.366337</td>\n",
              "      <td>0.683168</td>\n",
              "      <td>0.966997</td>\n",
              "      <td>131.623762</td>\n",
              "      <td>246.264026</td>\n",
              "      <td>0.148515</td>\n",
              "      <td>0.528053</td>\n",
              "      <td>149.646865</td>\n",
              "      <td>0.326733</td>\n",
              "      <td>1.039604</td>\n",
              "      <td>1.399340</td>\n",
              "      <td>0.729373</td>\n",
              "      <td>2.313531</td>\n",
              "      <td>0.544554</td>\n",
              "    </tr>\n",
              "    <tr>\n",
              "      <th>std</th>\n",
              "      <td>9.082101</td>\n",
              "      <td>0.466011</td>\n",
              "      <td>1.032052</td>\n",
              "      <td>17.538143</td>\n",
              "      <td>51.830751</td>\n",
              "      <td>0.356198</td>\n",
              "      <td>0.525860</td>\n",
              "      <td>22.905161</td>\n",
              "      <td>0.469794</td>\n",
              "      <td>1.161075</td>\n",
              "      <td>0.616226</td>\n",
              "      <td>1.022606</td>\n",
              "      <td>0.612277</td>\n",
              "      <td>0.498835</td>\n",
              "    </tr>\n",
              "    <tr>\n",
              "      <th>min</th>\n",
              "      <td>29.000000</td>\n",
              "      <td>0.000000</td>\n",
              "      <td>0.000000</td>\n",
              "      <td>94.000000</td>\n",
              "      <td>126.000000</td>\n",
              "      <td>0.000000</td>\n",
              "      <td>0.000000</td>\n",
              "      <td>71.000000</td>\n",
              "      <td>0.000000</td>\n",
              "      <td>0.000000</td>\n",
              "      <td>0.000000</td>\n",
              "      <td>0.000000</td>\n",
              "      <td>0.000000</td>\n",
              "      <td>0.000000</td>\n",
              "    </tr>\n",
              "    <tr>\n",
              "      <th>25%</th>\n",
              "      <td>47.500000</td>\n",
              "      <td>0.000000</td>\n",
              "      <td>0.000000</td>\n",
              "      <td>120.000000</td>\n",
              "      <td>211.000000</td>\n",
              "      <td>0.000000</td>\n",
              "      <td>0.000000</td>\n",
              "      <td>133.500000</td>\n",
              "      <td>0.000000</td>\n",
              "      <td>0.000000</td>\n",
              "      <td>1.000000</td>\n",
              "      <td>0.000000</td>\n",
              "      <td>2.000000</td>\n",
              "      <td>0.000000</td>\n",
              "    </tr>\n",
              "    <tr>\n",
              "      <th>50%</th>\n",
              "      <td>55.000000</td>\n",
              "      <td>1.000000</td>\n",
              "      <td>1.000000</td>\n",
              "      <td>130.000000</td>\n",
              "      <td>240.000000</td>\n",
              "      <td>0.000000</td>\n",
              "      <td>1.000000</td>\n",
              "      <td>153.000000</td>\n",
              "      <td>0.000000</td>\n",
              "      <td>0.800000</td>\n",
              "      <td>1.000000</td>\n",
              "      <td>0.000000</td>\n",
              "      <td>2.000000</td>\n",
              "      <td>1.000000</td>\n",
              "    </tr>\n",
              "    <tr>\n",
              "      <th>75%</th>\n",
              "      <td>61.000000</td>\n",
              "      <td>1.000000</td>\n",
              "      <td>2.000000</td>\n",
              "      <td>140.000000</td>\n",
              "      <td>274.500000</td>\n",
              "      <td>0.000000</td>\n",
              "      <td>1.000000</td>\n",
              "      <td>166.000000</td>\n",
              "      <td>1.000000</td>\n",
              "      <td>1.600000</td>\n",
              "      <td>2.000000</td>\n",
              "      <td>1.000000</td>\n",
              "      <td>3.000000</td>\n",
              "      <td>1.000000</td>\n",
              "    </tr>\n",
              "    <tr>\n",
              "      <th>max</th>\n",
              "      <td>77.000000</td>\n",
              "      <td>1.000000</td>\n",
              "      <td>3.000000</td>\n",
              "      <td>200.000000</td>\n",
              "      <td>564.000000</td>\n",
              "      <td>1.000000</td>\n",
              "      <td>2.000000</td>\n",
              "      <td>202.000000</td>\n",
              "      <td>1.000000</td>\n",
              "      <td>6.200000</td>\n",
              "      <td>2.000000</td>\n",
              "      <td>4.000000</td>\n",
              "      <td>3.000000</td>\n",
              "      <td>1.000000</td>\n",
              "    </tr>\n",
              "  </tbody>\n",
              "</table>\n",
              "</div>\n",
              "    <div class=\"colab-df-buttons\">\n",
              "\n",
              "  <div class=\"colab-df-container\">\n",
              "    <button class=\"colab-df-convert\" onclick=\"convertToInteractive('df-2e2b4696-84ba-4b2d-8c4d-0bb174612e3f')\"\n",
              "            title=\"Convert this dataframe to an interactive table.\"\n",
              "            style=\"display:none;\">\n",
              "\n",
              "  <svg xmlns=\"http://www.w3.org/2000/svg\" height=\"24px\" viewBox=\"0 -960 960 960\">\n",
              "    <path d=\"M120-120v-720h720v720H120Zm60-500h600v-160H180v160Zm220 220h160v-160H400v160Zm0 220h160v-160H400v160ZM180-400h160v-160H180v160Zm440 0h160v-160H620v160ZM180-180h160v-160H180v160Zm440 0h160v-160H620v160Z\"/>\n",
              "  </svg>\n",
              "    </button>\n",
              "\n",
              "  <style>\n",
              "    .colab-df-container {\n",
              "      display:flex;\n",
              "      gap: 12px;\n",
              "    }\n",
              "\n",
              "    .colab-df-convert {\n",
              "      background-color: #E8F0FE;\n",
              "      border: none;\n",
              "      border-radius: 50%;\n",
              "      cursor: pointer;\n",
              "      display: none;\n",
              "      fill: #1967D2;\n",
              "      height: 32px;\n",
              "      padding: 0 0 0 0;\n",
              "      width: 32px;\n",
              "    }\n",
              "\n",
              "    .colab-df-convert:hover {\n",
              "      background-color: #E2EBFA;\n",
              "      box-shadow: 0px 1px 2px rgba(60, 64, 67, 0.3), 0px 1px 3px 1px rgba(60, 64, 67, 0.15);\n",
              "      fill: #174EA6;\n",
              "    }\n",
              "\n",
              "    .colab-df-buttons div {\n",
              "      margin-bottom: 4px;\n",
              "    }\n",
              "\n",
              "    [theme=dark] .colab-df-convert {\n",
              "      background-color: #3B4455;\n",
              "      fill: #D2E3FC;\n",
              "    }\n",
              "\n",
              "    [theme=dark] .colab-df-convert:hover {\n",
              "      background-color: #434B5C;\n",
              "      box-shadow: 0px 1px 3px 1px rgba(0, 0, 0, 0.15);\n",
              "      filter: drop-shadow(0px 1px 2px rgba(0, 0, 0, 0.3));\n",
              "      fill: #FFFFFF;\n",
              "    }\n",
              "  </style>\n",
              "\n",
              "    <script>\n",
              "      const buttonEl =\n",
              "        document.querySelector('#df-2e2b4696-84ba-4b2d-8c4d-0bb174612e3f button.colab-df-convert');\n",
              "      buttonEl.style.display =\n",
              "        google.colab.kernel.accessAllowed ? 'block' : 'none';\n",
              "\n",
              "      async function convertToInteractive(key) {\n",
              "        const element = document.querySelector('#df-2e2b4696-84ba-4b2d-8c4d-0bb174612e3f');\n",
              "        const dataTable =\n",
              "          await google.colab.kernel.invokeFunction('convertToInteractive',\n",
              "                                                    [key], {});\n",
              "        if (!dataTable) return;\n",
              "\n",
              "        const docLinkHtml = 'Like what you see? Visit the ' +\n",
              "          '<a target=\"_blank\" href=https://colab.research.google.com/notebooks/data_table.ipynb>data table notebook</a>'\n",
              "          + ' to learn more about interactive tables.';\n",
              "        element.innerHTML = '';\n",
              "        dataTable['output_type'] = 'display_data';\n",
              "        await google.colab.output.renderOutput(dataTable, element);\n",
              "        const docLink = document.createElement('div');\n",
              "        docLink.innerHTML = docLinkHtml;\n",
              "        element.appendChild(docLink);\n",
              "      }\n",
              "    </script>\n",
              "  </div>\n",
              "\n",
              "\n",
              "<div id=\"df-8378236a-08a2-4561-bf7c-ea02e8e96e7e\">\n",
              "  <button class=\"colab-df-quickchart\" onclick=\"quickchart('df-8378236a-08a2-4561-bf7c-ea02e8e96e7e')\"\n",
              "            title=\"Suggest charts\"\n",
              "            style=\"display:none;\">\n",
              "\n",
              "<svg xmlns=\"http://www.w3.org/2000/svg\" height=\"24px\"viewBox=\"0 0 24 24\"\n",
              "     width=\"24px\">\n",
              "    <g>\n",
              "        <path d=\"M19 3H5c-1.1 0-2 .9-2 2v14c0 1.1.9 2 2 2h14c1.1 0 2-.9 2-2V5c0-1.1-.9-2-2-2zM9 17H7v-7h2v7zm4 0h-2V7h2v10zm4 0h-2v-4h2v4z\"/>\n",
              "    </g>\n",
              "</svg>\n",
              "  </button>\n",
              "\n",
              "<style>\n",
              "  .colab-df-quickchart {\n",
              "      --bg-color: #E8F0FE;\n",
              "      --fill-color: #1967D2;\n",
              "      --hover-bg-color: #E2EBFA;\n",
              "      --hover-fill-color: #174EA6;\n",
              "      --disabled-fill-color: #AAA;\n",
              "      --disabled-bg-color: #DDD;\n",
              "  }\n",
              "\n",
              "  [theme=dark] .colab-df-quickchart {\n",
              "      --bg-color: #3B4455;\n",
              "      --fill-color: #D2E3FC;\n",
              "      --hover-bg-color: #434B5C;\n",
              "      --hover-fill-color: #FFFFFF;\n",
              "      --disabled-bg-color: #3B4455;\n",
              "      --disabled-fill-color: #666;\n",
              "  }\n",
              "\n",
              "  .colab-df-quickchart {\n",
              "    background-color: var(--bg-color);\n",
              "    border: none;\n",
              "    border-radius: 50%;\n",
              "    cursor: pointer;\n",
              "    display: none;\n",
              "    fill: var(--fill-color);\n",
              "    height: 32px;\n",
              "    padding: 0;\n",
              "    width: 32px;\n",
              "  }\n",
              "\n",
              "  .colab-df-quickchart:hover {\n",
              "    background-color: var(--hover-bg-color);\n",
              "    box-shadow: 0 1px 2px rgba(60, 64, 67, 0.3), 0 1px 3px 1px rgba(60, 64, 67, 0.15);\n",
              "    fill: var(--button-hover-fill-color);\n",
              "  }\n",
              "\n",
              "  .colab-df-quickchart-complete:disabled,\n",
              "  .colab-df-quickchart-complete:disabled:hover {\n",
              "    background-color: var(--disabled-bg-color);\n",
              "    fill: var(--disabled-fill-color);\n",
              "    box-shadow: none;\n",
              "  }\n",
              "\n",
              "  .colab-df-spinner {\n",
              "    border: 2px solid var(--fill-color);\n",
              "    border-color: transparent;\n",
              "    border-bottom-color: var(--fill-color);\n",
              "    animation:\n",
              "      spin 1s steps(1) infinite;\n",
              "  }\n",
              "\n",
              "  @keyframes spin {\n",
              "    0% {\n",
              "      border-color: transparent;\n",
              "      border-bottom-color: var(--fill-color);\n",
              "      border-left-color: var(--fill-color);\n",
              "    }\n",
              "    20% {\n",
              "      border-color: transparent;\n",
              "      border-left-color: var(--fill-color);\n",
              "      border-top-color: var(--fill-color);\n",
              "    }\n",
              "    30% {\n",
              "      border-color: transparent;\n",
              "      border-left-color: var(--fill-color);\n",
              "      border-top-color: var(--fill-color);\n",
              "      border-right-color: var(--fill-color);\n",
              "    }\n",
              "    40% {\n",
              "      border-color: transparent;\n",
              "      border-right-color: var(--fill-color);\n",
              "      border-top-color: var(--fill-color);\n",
              "    }\n",
              "    60% {\n",
              "      border-color: transparent;\n",
              "      border-right-color: var(--fill-color);\n",
              "    }\n",
              "    80% {\n",
              "      border-color: transparent;\n",
              "      border-right-color: var(--fill-color);\n",
              "      border-bottom-color: var(--fill-color);\n",
              "    }\n",
              "    90% {\n",
              "      border-color: transparent;\n",
              "      border-bottom-color: var(--fill-color);\n",
              "    }\n",
              "  }\n",
              "</style>\n",
              "\n",
              "  <script>\n",
              "    async function quickchart(key) {\n",
              "      const quickchartButtonEl =\n",
              "        document.querySelector('#' + key + ' button');\n",
              "      quickchartButtonEl.disabled = true;  // To prevent multiple clicks.\n",
              "      quickchartButtonEl.classList.add('colab-df-spinner');\n",
              "      try {\n",
              "        const charts = await google.colab.kernel.invokeFunction(\n",
              "            'suggestCharts', [key], {});\n",
              "      } catch (error) {\n",
              "        console.error('Error during call to suggestCharts:', error);\n",
              "      }\n",
              "      quickchartButtonEl.classList.remove('colab-df-spinner');\n",
              "      quickchartButtonEl.classList.add('colab-df-quickchart-complete');\n",
              "    }\n",
              "    (() => {\n",
              "      let quickchartButtonEl =\n",
              "        document.querySelector('#df-8378236a-08a2-4561-bf7c-ea02e8e96e7e button');\n",
              "      quickchartButtonEl.style.display =\n",
              "        google.colab.kernel.accessAllowed ? 'block' : 'none';\n",
              "    })();\n",
              "  </script>\n",
              "</div>\n",
              "    </div>\n",
              "  </div>\n"
            ]
          },
          "metadata": {},
          "execution_count": 9
        }
      ]
    },
    {
      "cell_type": "code",
      "source": [
        "q3 = df['chol'].quantile(0.75)\n",
        "q1 = df['chol'].quantile(0.25)\n",
        "iqr = (q3 - q1)\n",
        "upper_tres = q3 + (1.5*iqr)\n",
        "lower_tres = q1 - (1.5*iqr)\n",
        "upper_tres ,lower_tres"
      ],
      "metadata": {
        "colab": {
          "base_uri": "https://localhost:8080/"
        },
        "id": "Px3DTQAC8yAi",
        "outputId": "55779d16-29ac-4427-e9b3-e55eee5472ca"
      },
      "execution_count": null,
      "outputs": [
        {
          "output_type": "execute_result",
          "data": {
            "text/plain": [
              "(369.75, 115.75)"
            ]
          },
          "metadata": {},
          "execution_count": 13
        }
      ]
    },
    {
      "cell_type": "markdown",
      "source": [
        "![image.png](data:image/png;base64,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)"
      ],
      "metadata": {
        "id": "wyU9FIK5-jw0"
      }
    },
    {
      "cell_type": "code",
      "source": [
        "q3 = df['trestbps'].quantile(0.75)\n",
        "q1 = df['trestbps'].quantile(0.25)\n",
        "iqr = (q3 - q1)\n",
        "upper_tres = q3 + (1.5*iqr)\n",
        "lower_tres = q1 - (1.5*iqr)\n",
        "upper_tres ,lower_tres"
      ],
      "metadata": {
        "colab": {
          "base_uri": "https://localhost:8080/"
        },
        "id": "5jTC-RLR9AKQ",
        "outputId": "c7930ae3-15ec-4c42-b25a-943d30e9d2b5"
      },
      "execution_count": null,
      "outputs": [
        {
          "output_type": "execute_result",
          "data": {
            "text/plain": [
              "(170.0, 90.0)"
            ]
          },
          "metadata": {},
          "execution_count": 14
        }
      ]
    },
    {
      "cell_type": "markdown",
      "source": [
        "![blood pressur.png](data:image/png;base64,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)"
      ],
      "metadata": {
        "id": "ErKYyXFy-LCm"
      }
    },
    {
      "cell_type": "code",
      "source": [
        "n = 1\n",
        "cols =[\"age\",\"sex\",\"cp\",\"trestbps\",\"chol\",\"fbs\",\"restecg\",\"thalach\",\"exang\",\"oldpeak\",\"slope\",\"ca\",\"thal\"]\n",
        "plt.figure(figsize=(10,10))\n",
        "for i in cols:\n",
        "        if n<=5:\n",
        "            plt.subplot(3,2,n);\n",
        "            n+=1\n",
        "            sns.boxplot(x = df[i])\n",
        "            plt.xlabel(i)"
      ],
      "metadata": {
        "colab": {
          "base_uri": "https://localhost:8080/",
          "height": 850
        },
        "id": "Kb-JgzTF5Zag",
        "outputId": "ca0f5a7e-8275-46da-f74b-7c35f5f8beb9"
      },
      "execution_count": null,
      "outputs": [
        {
          "output_type": "display_data",
          "data": {
            "text/plain": [
              "<Figure size 1000x1000 with 5 Axes>"
            ],
            "image/png": "[encoded data removed]"
          },
          "metadata": {}
        }
      ]
    },
    {
      "cell_type": "code",
      "source": [
        "df.drop_duplicates()"
      ],
      "metadata": {
        "colab": {
          "base_uri": "https://localhost:8080/",
          "height": 424
        },
        "id": "FSIwN9ei_Ksv",
        "outputId": "11279e04-6089-4674-e90e-d4ea1042c9a9"
      },
      "execution_count": null,
      "outputs": [
        {
          "output_type": "execute_result",
          "data": {
            "text/plain": [
              "     age  sex  cp  trestbps  chol  fbs  restecg  thalach  exang  oldpeak  \\\n",
              "0     63    1   3       145   233    1        0      150      0      2.3   \n",
              "1     37    1   2       130   250    0        1      187      0      3.5   \n",
              "2     41    0   1       130   204    0        0      172      0      1.4   \n",
              "3     56    1   1       120   236    0        1      178      0      0.8   \n",
              "4     57    0   0       120   354    0        1      163      1      0.6   \n",
              "..   ...  ...  ..       ...   ...  ...      ...      ...    ...      ...   \n",
              "298   57    0   0       140   241    0        1      123      1      0.2   \n",
              "299   45    1   3       110   264    0        1      132      0      1.2   \n",
              "300   68    1   0       144   193    1        1      141      0      3.4   \n",
              "301   57    1   0       130   131    0        1      115      1      1.2   \n",
              "302   57    0   1       130   236    0        0      174      0      0.0   \n",
              "\n",
              "     slope  ca  thal  target  \n",
              "0        0   0     1       1  \n",
              "1        0   0     2       1  \n",
              "2        2   0     2       1  \n",
              "3        2   0     2       1  \n",
              "4        2   0     2       1  \n",
              "..     ...  ..   ...     ...  \n",
              "298      1   0     3       0  \n",
              "299      1   0     3       0  \n",
              "300      1   2     3       0  \n",
              "301      1   1     3       0  \n",
              "302      1   1     2       0  \n",
              "\n",
              "[302 rows x 14 columns]"
            ],
            "text/html": [
              "\n",
              "  <div id=\"df-7b0ae71a-0715-4602-a742-c6f58d4ace9c\" class=\"colab-df-container\">\n",
              "    <div>\n",
              "<style scoped>\n",
              "    .dataframe tbody tr th:only-of-type {\n",
              "        vertical-align: middle;\n",
              "    }\n",
              "\n",
              "    .dataframe tbody tr th {\n",
              "        vertical-align: top;\n",
              "    }\n",
              "\n",
              "    .dataframe thead th {\n",
              "        text-align: right;\n",
              "    }\n",
              "</style>\n",
              "<table border=\"1\" class=\"dataframe\">\n",
              "  <thead>\n",
              "    <tr style=\"text-align: right;\">\n",
              "      <th></th>\n",
              "      <th>age</th>\n",
              "      <th>sex</th>\n",
              "      <th>cp</th>\n",
              "      <th>trestbps</th>\n",
              "      <th>chol</th>\n",
              "      <th>fbs</th>\n",
              "      <th>restecg</th>\n",
              "      <th>thalach</th>\n",
              "      <th>exang</th>\n",
              "      <th>oldpeak</th>\n",
              "      <th>slope</th>\n",
              "      <th>ca</th>\n",
              "      <th>thal</th>\n",
              "      <th>target</th>\n",
              "    </tr>\n",
              "  </thead>\n",
              "  <tbody>\n",
              "    <tr>\n",
              "      <th>0</th>\n",
              "      <td>63</td>\n",
              "      <td>1</td>\n",
              "      <td>3</td>\n",
              "      <td>145</td>\n",
              "      <td>233</td>\n",
              "      <td>1</td>\n",
              "      <td>0</td>\n",
              "      <td>150</td>\n",
              "      <td>0</td>\n",
              "      <td>2.3</td>\n",
              "      <td>0</td>\n",
              "      <td>0</td>\n",
              "      <td>1</td>\n",
              "      <td>1</td>\n",
              "    </tr>\n",
              "    <tr>\n",
              "      <th>1</th>\n",
              "      <td>37</td>\n",
              "      <td>1</td>\n",
              "      <td>2</td>\n",
              "      <td>130</td>\n",
              "      <td>250</td>\n",
              "      <td>0</td>\n",
              "      <td>1</td>\n",
              "      <td>187</td>\n",
              "      <td>0</td>\n",
              "      <td>3.5</td>\n",
              "      <td>0</td>\n",
              "      <td>0</td>\n",
              "      <td>2</td>\n",
              "      <td>1</td>\n",
              "    </tr>\n",
              "    <tr>\n",
              "      <th>2</th>\n",
              "      <td>41</td>\n",
              "      <td>0</td>\n",
              "      <td>1</td>\n",
              "      <td>130</td>\n",
              "      <td>204</td>\n",
              "      <td>0</td>\n",
              "      <td>0</td>\n",
              "      <td>172</td>\n",
              "      <td>0</td>\n",
              "      <td>1.4</td>\n",
              "      <td>2</td>\n",
              "      <td>0</td>\n",
              "      <td>2</td>\n",
              "      <td>1</td>\n",
              "    </tr>\n",
              "    <tr>\n",
              "      <th>3</th>\n",
              "      <td>56</td>\n",
              "      <td>1</td>\n",
              "      <td>1</td>\n",
              "      <td>120</td>\n",
              "      <td>236</td>\n",
              "      <td>0</td>\n",
              "      <td>1</td>\n",
              "      <td>178</td>\n",
              "      <td>0</td>\n",
              "      <td>0.8</td>\n",
              "      <td>2</td>\n",
              "      <td>0</td>\n",
              "      <td>2</td>\n",
              "      <td>1</td>\n",
              "    </tr>\n",
              "    <tr>\n",
              "      <th>4</th>\n",
              "      <td>57</td>\n",
              "      <td>0</td>\n",
              "      <td>0</td>\n",
              "      <td>120</td>\n",
              "      <td>354</td>\n",
              "      <td>0</td>\n",
              "      <td>1</td>\n",
              "      <td>163</td>\n",
              "      <td>1</td>\n",
              "      <td>0.6</td>\n",
              "      <td>2</td>\n",
              "      <td>0</td>\n",
              "      <td>2</td>\n",
              "      <td>1</td>\n",
              "    </tr>\n",
              "    <tr>\n",
              "      <th>...</th>\n",
              "      <td>...</td>\n",
              "      <td>...</td>\n",
              "      <td>...</td>\n",
              "      <td>...</td>\n",
              "      <td>...</td>\n",
              "      <td>...</td>\n",
              "      <td>...</td>\n",
              "      <td>...</td>\n",
              "      <td>...</td>\n",
              "      <td>...</td>\n",
              "      <td>...</td>\n",
              "      <td>...</td>\n",
              "      <td>...</td>\n",
              "      <td>...</td>\n",
              "    </tr>\n",
              "    <tr>\n",
              "      <th>298</th>\n",
              "      <td>57</td>\n",
              "      <td>0</td>\n",
              "      <td>0</td>\n",
              "      <td>140</td>\n",
              "      <td>241</td>\n",
              "      <td>0</td>\n",
              "      <td>1</td>\n",
              "      <td>123</td>\n",
              "      <td>1</td>\n",
              "      <td>0.2</td>\n",
              "      <td>1</td>\n",
              "      <td>0</td>\n",
              "      <td>3</td>\n",
              "      <td>0</td>\n",
              "    </tr>\n",
              "    <tr>\n",
              "      <th>299</th>\n",
              "      <td>45</td>\n",
              "      <td>1</td>\n",
              "      <td>3</td>\n",
              "      <td>110</td>\n",
              "      <td>264</td>\n",
              "      <td>0</td>\n",
              "      <td>1</td>\n",
              "      <td>132</td>\n",
              "      <td>0</td>\n",
              "      <td>1.2</td>\n",
              "      <td>1</td>\n",
              "      <td>0</td>\n",
              "      <td>3</td>\n",
              "      <td>0</td>\n",
              "    </tr>\n",
              "    <tr>\n",
              "      <th>300</th>\n",
              "      <td>68</td>\n",
              "      <td>1</td>\n",
              "      <td>0</td>\n",
              "      <td>144</td>\n",
              "      <td>193</td>\n",
              "      <td>1</td>\n",
              "      <td>1</td>\n",
              "      <td>141</td>\n",
              "      <td>0</td>\n",
              "      <td>3.4</td>\n",
              "      <td>1</td>\n",
              "      <td>2</td>\n",
              "      <td>3</td>\n",
              "      <td>0</td>\n",
              "    </tr>\n",
              "    <tr>\n",
              "      <th>301</th>\n",
              "      <td>57</td>\n",
              "      <td>1</td>\n",
              "      <td>0</td>\n",
              "      <td>130</td>\n",
              "      <td>131</td>\n",
              "      <td>0</td>\n",
              "      <td>1</td>\n",
              "      <td>115</td>\n",
              "      <td>1</td>\n",
              "      <td>1.2</td>\n",
              "      <td>1</td>\n",
              "      <td>1</td>\n",
              "      <td>3</td>\n",
              "      <td>0</td>\n",
              "    </tr>\n",
              "    <tr>\n",
              "      <th>302</th>\n",
              "      <td>57</td>\n",
              "      <td>0</td>\n",
              "      <td>1</td>\n",
              "      <td>130</td>\n",
              "      <td>236</td>\n",
              "      <td>0</td>\n",
              "      <td>0</td>\n",
              "      <td>174</td>\n",
              "      <td>0</td>\n",
              "      <td>0.0</td>\n",
              "      <td>1</td>\n",
              "      <td>1</td>\n",
              "      <td>2</td>\n",
              "      <td>0</td>\n",
              "    </tr>\n",
              "  </tbody>\n",
              "</table>\n",
              "<p>302 rows × 14 columns</p>\n",
              "</div>\n",
              "    <div class=\"colab-df-buttons\">\n",
              "\n",
              "  <div class=\"colab-df-container\">\n",
              "    <button class=\"colab-df-convert\" onclick=\"convertToInteractive('df-7b0ae71a-0715-4602-a742-c6f58d4ace9c')\"\n",
              "            title=\"Convert this dataframe to an interactive table.\"\n",
              "            style=\"display:none;\">\n",
              "\n",
              "  <svg xmlns=\"http://www.w3.org/2000/svg\" height=\"24px\" viewBox=\"0 -960 960 960\">\n",
              "    <path d=\"M120-120v-720h720v720H120Zm60-500h600v-160H180v160Zm220 220h160v-160H400v160Zm0 220h160v-160H400v160ZM180-400h160v-160H180v160Zm440 0h160v-160H620v160ZM180-180h160v-160H180v160Zm440 0h160v-160H620v160Z\"/>\n",
              "  </svg>\n",
              "    </button>\n",
              "\n",
              "  <style>\n",
              "    .colab-df-container {\n",
              "      display:flex;\n",
              "      gap: 12px;\n",
              "    }\n",
              "\n",
              "    .colab-df-convert {\n",
              "      background-color: #E8F0FE;\n",
              "      border: none;\n",
              "      border-radius: 50%;\n",
              "      cursor: pointer;\n",
              "      display: none;\n",
              "      fill: #1967D2;\n",
              "      height: 32px;\n",
              "      padding: 0 0 0 0;\n",
              "      width: 32px;\n",
              "    }\n",
              "\n",
              "    .colab-df-convert:hover {\n",
              "      background-color: #E2EBFA;\n",
              "      box-shadow: 0px 1px 2px rgba(60, 64, 67, 0.3), 0px 1px 3px 1px rgba(60, 64, 67, 0.15);\n",
              "      fill: #174EA6;\n",
              "    }\n",
              "\n",
              "    .colab-df-buttons div {\n",
              "      margin-bottom: 4px;\n",
              "    }\n",
              "\n",
              "    [theme=dark] .colab-df-convert {\n",
              "      background-color: #3B4455;\n",
              "      fill: #D2E3FC;\n",
              "    }\n",
              "\n",
              "    [theme=dark] .colab-df-convert:hover {\n",
              "      background-color: #434B5C;\n",
              "      box-shadow: 0px 1px 3px 1px rgba(0, 0, 0, 0.15);\n",
              "      filter: drop-shadow(0px 1px 2px rgba(0, 0, 0, 0.3));\n",
              "      fill: #FFFFFF;\n",
              "    }\n",
              "  </style>\n",
              "\n",
              "    <script>\n",
              "      const buttonEl =\n",
              "        document.querySelector('#df-7b0ae71a-0715-4602-a742-c6f58d4ace9c button.colab-df-convert');\n",
              "      buttonEl.style.display =\n",
              "        google.colab.kernel.accessAllowed ? 'block' : 'none';\n",
              "\n",
              "      async function convertToInteractive(key) {\n",
              "        const element = document.querySelector('#df-7b0ae71a-0715-4602-a742-c6f58d4ace9c');\n",
              "        const dataTable =\n",
              "          await google.colab.kernel.invokeFunction('convertToInteractive',\n",
              "                                                    [key], {});\n",
              "        if (!dataTable) return;\n",
              "\n",
              "        const docLinkHtml = 'Like what you see? Visit the ' +\n",
              "          '<a target=\"_blank\" href=https://colab.research.google.com/notebooks/data_table.ipynb>data table notebook</a>'\n",
              "          + ' to learn more about interactive tables.';\n",
              "        element.innerHTML = '';\n",
              "        dataTable['output_type'] = 'display_data';\n",
              "        await google.colab.output.renderOutput(dataTable, element);\n",
              "        const docLink = document.createElement('div');\n",
              "        docLink.innerHTML = docLinkHtml;\n",
              "        element.appendChild(docLink);\n",
              "      }\n",
              "    </script>\n",
              "  </div>\n",
              "\n",
              "\n",
              "<div id=\"df-ab777079-987b-46f6-8848-ce2bca742e25\">\n",
              "  <button class=\"colab-df-quickchart\" onclick=\"quickchart('df-ab777079-987b-46f6-8848-ce2bca742e25')\"\n",
              "            title=\"Suggest charts\"\n",
              "            style=\"display:none;\">\n",
              "\n",
              "<svg xmlns=\"http://www.w3.org/2000/svg\" height=\"24px\"viewBox=\"0 0 24 24\"\n",
              "     width=\"24px\">\n",
              "    <g>\n",
              "        <path d=\"M19 3H5c-1.1 0-2 .9-2 2v14c0 1.1.9 2 2 2h14c1.1 0 2-.9 2-2V5c0-1.1-.9-2-2-2zM9 17H7v-7h2v7zm4 0h-2V7h2v10zm4 0h-2v-4h2v4z\"/>\n",
              "    </g>\n",
              "</svg>\n",
              "  </button>\n",
              "\n",
              "<style>\n",
              "  .colab-df-quickchart {\n",
              "      --bg-color: #E8F0FE;\n",
              "      --fill-color: #1967D2;\n",
              "      --hover-bg-color: #E2EBFA;\n",
              "      --hover-fill-color: #174EA6;\n",
              "      --disabled-fill-color: #AAA;\n",
              "      --disabled-bg-color: #DDD;\n",
              "  }\n",
              "\n",
              "  [theme=dark] .colab-df-quickchart {\n",
              "      --bg-color: #3B4455;\n",
              "      --fill-color: #D2E3FC;\n",
              "      --hover-bg-color: #434B5C;\n",
              "      --hover-fill-color: #FFFFFF;\n",
              "      --disabled-bg-color: #3B4455;\n",
              "      --disabled-fill-color: #666;\n",
              "  }\n",
              "\n",
              "  .colab-df-quickchart {\n",
              "    background-color: var(--bg-color);\n",
              "    border: none;\n",
              "    border-radius: 50%;\n",
              "    cursor: pointer;\n",
              "    display: none;\n",
              "    fill: var(--fill-color);\n",
              "    height: 32px;\n",
              "    padding: 0;\n",
              "    width: 32px;\n",
              "  }\n",
              "\n",
              "  .colab-df-quickchart:hover {\n",
              "    background-color: var(--hover-bg-color);\n",
              "    box-shadow: 0 1px 2px rgba(60, 64, 67, 0.3), 0 1px 3px 1px rgba(60, 64, 67, 0.15);\n",
              "    fill: var(--button-hover-fill-color);\n",
              "  }\n",
              "\n",
              "  .colab-df-quickchart-complete:disabled,\n",
              "  .colab-df-quickchart-complete:disabled:hover {\n",
              "    background-color: var(--disabled-bg-color);\n",
              "    fill: var(--disabled-fill-color);\n",
              "    box-shadow: none;\n",
              "  }\n",
              "\n",
              "  .colab-df-spinner {\n",
              "    border: 2px solid var(--fill-color);\n",
              "    border-color: transparent;\n",
              "    border-bottom-color: var(--fill-color);\n",
              "    animation:\n",
              "      spin 1s steps(1) infinite;\n",
              "  }\n",
              "\n",
              "  @keyframes spin {\n",
              "    0% {\n",
              "      border-color: transparent;\n",
              "      border-bottom-color: var(--fill-color);\n",
              "      border-left-color: var(--fill-color);\n",
              "    }\n",
              "    20% {\n",
              "      border-color: transparent;\n",
              "      border-left-color: var(--fill-color);\n",
              "      border-top-color: var(--fill-color);\n",
              "    }\n",
              "    30% {\n",
              "      border-color: transparent;\n",
              "      border-left-color: var(--fill-color);\n",
              "      border-top-color: var(--fill-color);\n",
              "      border-right-color: var(--fill-color);\n",
              "    }\n",
              "    40% {\n",
              "      border-color: transparent;\n",
              "      border-right-color: var(--fill-color);\n",
              "      border-top-color: var(--fill-color);\n",
              "    }\n",
              "    60% {\n",
              "      border-color: transparent;\n",
              "      border-right-color: var(--fill-color);\n",
              "    }\n",
              "    80% {\n",
              "      border-color: transparent;\n",
              "      border-right-color: var(--fill-color);\n",
              "      border-bottom-color: var(--fill-color);\n",
              "    }\n",
              "    90% {\n",
              "      border-color: transparent;\n",
              "      border-bottom-color: var(--fill-color);\n",
              "    }\n",
              "  }\n",
              "</style>\n",
              "\n",
              "  <script>\n",
              "    async function quickchart(key) {\n",
              "      const quickchartButtonEl =\n",
              "        document.querySelector('#' + key + ' button');\n",
              "      quickchartButtonEl.disabled = true;  // To prevent multiple clicks.\n",
              "      quickchartButtonEl.classList.add('colab-df-spinner');\n",
              "      try {\n",
              "        const charts = await google.colab.kernel.invokeFunction(\n",
              "            'suggestCharts', [key], {});\n",
              "      } catch (error) {\n",
              "        console.error('Error during call to suggestCharts:', error);\n",
              "      }\n",
              "      quickchartButtonEl.classList.remove('colab-df-spinner');\n",
              "      quickchartButtonEl.classList.add('colab-df-quickchart-complete');\n",
              "    }\n",
              "    (() => {\n",
              "      let quickchartButtonEl =\n",
              "        document.querySelector('#df-ab777079-987b-46f6-8848-ce2bca742e25 button');\n",
              "      quickchartButtonEl.style.display =\n",
              "        google.colab.kernel.accessAllowed ? 'block' : 'none';\n",
              "    })();\n",
              "  </script>\n",
              "</div>\n",
              "    </div>\n",
              "  </div>\n"
            ]
          },
          "metadata": {},
          "execution_count": 18
        }
      ]
    },
    {
      "cell_type": "code",
      "source": [
        "df.hist(figsize=(15,10))\n",
        "plt.show()"
      ],
      "metadata": {
        "colab": {
          "base_uri": "https://localhost:8080/",
          "height": 853
        },
        "id": "3lPUlPe4GwON",
        "outputId": "ed5d1cbc-e7eb-4811-e313-47e9496c8b8a"
      },
      "execution_count": null,
      "outputs": [
        {
          "output_type": "display_data",
          "data": {
            "text/plain": [
              "<Figure size 1500x1000 with 16 Axes>"
            ],
            "image/png": "[encoded data removed]"
          },
          "metadata": {}
        }
      ]
    },
    {
      "cell_type": "code",
      "source": [
        "sns.distplot(df['age'])\n",
        "plt.show()\n",
        "sns.distplot(df['chol'])\n",
        "plt.show()\n",
        "sns.distplot(df['thalach'])\n",
        "plt.show()\n",
        "sns.distplot(df['trestbps'])\n",
        "plt.show()"
      ],
      "metadata": {
        "colab": {
          "base_uri": "https://localhost:8080/",
          "height": 1000
        },
        "id": "WmzALU_RHFRr",
        "outputId": "2ca1676d-8b8d-43d3-f9e0-84206e8fb9b8"
      },
      "execution_count": null,
      "outputs": [
        {
          "output_type": "stream",
          "name": "stderr",
          "text": [
            "<ipython-input-24-4dcdc6194657>:1: UserWarning: \n",
            "\n",
            "`distplot` is a deprecated function and will be removed in seaborn v0.14.0.\n",
            "\n",
            "Please adapt your code to use either `displot` (a figure-level function with\n",
            "similar flexibility) or `histplot` (an axes-level function for histograms).\n",
            "\n",
            "For a guide to updating your code to use the new functions, please see\n",
            "https://gist.github.com/mwaskom/de44147ed2974457ad6372750bbe5751\n",
            "\n",
            "  sns.distplot(df['age'])\n"
          ]
        },
        {
          "output_type": "display_data",
          "data": {
            "text/plain": [
              "<Figure size 640x480 with 1 Axes>"
            ],
            "image/png": "[encoded data removed]"
          },
          "metadata": {}
        },
        {
          "output_type": "stream",
          "name": "stderr",
          "text": [
            "<ipython-input-24-4dcdc6194657>:3: UserWarning: \n",
            "\n",
            "`distplot` is a deprecated function and will be removed in seaborn v0.14.0.\n",
            "\n",
            "Please adapt your code to use either `displot` (a figure-level function with\n",
            "similar flexibility) or `histplot` (an axes-level function for histograms).\n",
            "\n",
            "For a guide to updating your code to use the new functions, please see\n",
            "https://gist.github.com/mwaskom/de44147ed2974457ad6372750bbe5751\n",
            "\n",
            "  sns.distplot(df['chol'])\n"
          ]
        },
        {
          "output_type": "display_data",
          "data": {
            "text/plain": [
              "<Figure size 640x480 with 1 Axes>"
            ],
            "image/png": "[encoded data removed]"
          },
          "metadata": {}
        },
        {
          "output_type": "stream",
          "name": "stderr",
          "text": [
            "<ipython-input-24-4dcdc6194657>:5: UserWarning: \n",
            "\n",
            "`distplot` is a deprecated function and will be removed in seaborn v0.14.0.\n",
            "\n",
            "Please adapt your code to use either `displot` (a figure-level function with\n",
            "similar flexibility) or `histplot` (an axes-level function for histograms).\n",
            "\n",
            "For a guide to updating your code to use the new functions, please see\n",
            "https://gist.github.com/mwaskom/de44147ed2974457ad6372750bbe5751\n",
            "\n",
            "  sns.distplot(df['thalach'])\n"
          ]
        },
        {
          "output_type": "display_data",
          "data": {
            "text/plain": [
              "<Figure size 640x480 with 1 Axes>"
            ],
            "image/png": "[encoded data removed]"
          },
          "metadata": {}
        },
        {
          "output_type": "stream",
          "name": "stderr",
          "text": [
            "<ipython-input-24-4dcdc6194657>:7: UserWarning: \n",
            "\n",
            "`distplot` is a deprecated function and will be removed in seaborn v0.14.0.\n",
            "\n",
            "Please adapt your code to use either `displot` (a figure-level function with\n",
            "similar flexibility) or `histplot` (an axes-level function for histograms).\n",
            "\n",
            "For a guide to updating your code to use the new functions, please see\n",
            "https://gist.github.com/mwaskom/de44147ed2974457ad6372750bbe5751\n",
            "\n",
            "  sns.distplot(df['trestbps'])\n"
          ]
        },
        {
          "output_type": "display_data",
          "data": {
            "text/plain": [
              "<Figure size 640x480 with 1 Axes>"
            ],
            "image/png": "[encoded data removed]"
          },
          "metadata": {}
        }
      ]
    },
    {
      "cell_type": "markdown",
      "source": [
        "By plotting histogram we can say age,chol,thalach,trestbps columns are normally distributed"
      ],
      "metadata": {
        "id": "0ZxXWHO_Iide"
      }
    },
    {
      "cell_type": "code",
      "source": [
        "df"
      ],
      "metadata": {
        "colab": {
          "base_uri": "https://localhost:8080/",
          "height": 424
        },
        "id": "dO8fZ45OJagG",
        "outputId": "367122b8-52f1-4a94-9534-382b01cba6f6"
      },
      "execution_count": null,
      "outputs": [
        {
          "output_type": "execute_result",
          "data": {
            "text/plain": [
              "     age  sex  cp  trestbps  chol  fbs  restecg  thalach  exang  oldpeak  \\\n",
              "0     63    1   3       145   233    1        0      150      0      2.3   \n",
              "1     37    1   2       130   250    0        1      187      0      3.5   \n",
              "2     41    0   1       130   204    0        0      172      0      1.4   \n",
              "3     56    1   1       120   236    0        1      178      0      0.8   \n",
              "4     57    0   0       120   354    0        1      163      1      0.6   \n",
              "..   ...  ...  ..       ...   ...  ...      ...      ...    ...      ...   \n",
              "298   57    0   0       140   241    0        1      123      1      0.2   \n",
              "299   45    1   3       110   264    0        1      132      0      1.2   \n",
              "300   68    1   0       144   193    1        1      141      0      3.4   \n",
              "301   57    1   0       130   131    0        1      115      1      1.2   \n",
              "302   57    0   1       130   236    0        0      174      0      0.0   \n",
              "\n",
              "     slope  ca  thal  target  \n",
              "0        0   0     1       1  \n",
              "1        0   0     2       1  \n",
              "2        2   0     2       1  \n",
              "3        2   0     2       1  \n",
              "4        2   0     2       1  \n",
              "..     ...  ..   ...     ...  \n",
              "298      1   0     3       0  \n",
              "299      1   0     3       0  \n",
              "300      1   2     3       0  \n",
              "301      1   1     3       0  \n",
              "302      1   1     2       0  \n",
              "\n",
              "[303 rows x 14 columns]"
            ],
            "text/html": [
              "\n",
              "  <div id=\"df-329a6ba5-53e5-4a00-be74-e322b5f097b9\" class=\"colab-df-container\">\n",
              "    <div>\n",
              "<style scoped>\n",
              "    .dataframe tbody tr th:only-of-type {\n",
              "        vertical-align: middle;\n",
              "    }\n",
              "\n",
              "    .dataframe tbody tr th {\n",
              "        vertical-align: top;\n",
              "    }\n",
              "\n",
              "    .dataframe thead th {\n",
              "        text-align: right;\n",
              "    }\n",
              "</style>\n",
              "<table border=\"1\" class=\"dataframe\">\n",
              "  <thead>\n",
              "    <tr style=\"text-align: right;\">\n",
              "      <th></th>\n",
              "      <th>age</th>\n",
              "      <th>sex</th>\n",
              "      <th>cp</th>\n",
              "      <th>trestbps</th>\n",
              "      <th>chol</th>\n",
              "      <th>fbs</th>\n",
              "      <th>restecg</th>\n",
              "      <th>thalach</th>\n",
              "      <th>exang</th>\n",
              "      <th>oldpeak</th>\n",
              "      <th>slope</th>\n",
              "      <th>ca</th>\n",
              "      <th>thal</th>\n",
              "      <th>target</th>\n",
              "    </tr>\n",
              "  </thead>\n",
              "  <tbody>\n",
              "    <tr>\n",
              "      <th>0</th>\n",
              "      <td>63</td>\n",
              "      <td>1</td>\n",
              "      <td>3</td>\n",
              "      <td>145</td>\n",
              "      <td>233</td>\n",
              "      <td>1</td>\n",
              "      <td>0</td>\n",
              "      <td>150</td>\n",
              "      <td>0</td>\n",
              "      <td>2.3</td>\n",
              "      <td>0</td>\n",
              "      <td>0</td>\n",
              "      <td>1</td>\n",
              "      <td>1</td>\n",
              "    </tr>\n",
              "    <tr>\n",
              "      <th>1</th>\n",
              "      <td>37</td>\n",
              "      <td>1</td>\n",
              "      <td>2</td>\n",
              "      <td>130</td>\n",
              "      <td>250</td>\n",
              "      <td>0</td>\n",
              "      <td>1</td>\n",
              "      <td>187</td>\n",
              "      <td>0</td>\n",
              "      <td>3.5</td>\n",
              "      <td>0</td>\n",
              "      <td>0</td>\n",
              "      <td>2</td>\n",
              "      <td>1</td>\n",
              "    </tr>\n",
              "    <tr>\n",
              "      <th>2</th>\n",
              "      <td>41</td>\n",
              "      <td>0</td>\n",
              "      <td>1</td>\n",
              "      <td>130</td>\n",
              "      <td>204</td>\n",
              "      <td>0</td>\n",
              "      <td>0</td>\n",
              "      <td>172</td>\n",
              "      <td>0</td>\n",
              "      <td>1.4</td>\n",
              "      <td>2</td>\n",
              "      <td>0</td>\n",
              "      <td>2</td>\n",
              "      <td>1</td>\n",
              "    </tr>\n",
              "    <tr>\n",
              "      <th>3</th>\n",
              "      <td>56</td>\n",
              "      <td>1</td>\n",
              "      <td>1</td>\n",
              "      <td>120</td>\n",
              "      <td>236</td>\n",
              "      <td>0</td>\n",
              "      <td>1</td>\n",
              "      <td>178</td>\n",
              "      <td>0</td>\n",
              "      <td>0.8</td>\n",
              "      <td>2</td>\n",
              "      <td>0</td>\n",
              "      <td>2</td>\n",
              "      <td>1</td>\n",
              "    </tr>\n",
              "    <tr>\n",
              "      <th>4</th>\n",
              "      <td>57</td>\n",
              "      <td>0</td>\n",
              "      <td>0</td>\n",
              "      <td>120</td>\n",
              "      <td>354</td>\n",
              "      <td>0</td>\n",
              "      <td>1</td>\n",
              "      <td>163</td>\n",
              "      <td>1</td>\n",
              "      <td>0.6</td>\n",
              "      <td>2</td>\n",
              "      <td>0</td>\n",
              "      <td>2</td>\n",
              "      <td>1</td>\n",
              "    </tr>\n",
              "    <tr>\n",
              "      <th>...</th>\n",
              "      <td>...</td>\n",
              "      <td>...</td>\n",
              "      <td>...</td>\n",
              "      <td>...</td>\n",
              "      <td>...</td>\n",
              "      <td>...</td>\n",
              "      <td>...</td>\n",
              "      <td>...</td>\n",
              "      <td>...</td>\n",
              "      <td>...</td>\n",
              "      <td>...</td>\n",
              "      <td>...</td>\n",
              "      <td>...</td>\n",
              "      <td>...</td>\n",
              "    </tr>\n",
              "    <tr>\n",
              "      <th>298</th>\n",
              "      <td>57</td>\n",
              "      <td>0</td>\n",
              "      <td>0</td>\n",
              "      <td>140</td>\n",
              "      <td>241</td>\n",
              "      <td>0</td>\n",
              "      <td>1</td>\n",
              "      <td>123</td>\n",
              "      <td>1</td>\n",
              "      <td>0.2</td>\n",
              "      <td>1</td>\n",
              "      <td>0</td>\n",
              "      <td>3</td>\n",
              "      <td>0</td>\n",
              "    </tr>\n",
              "    <tr>\n",
              "      <th>299</th>\n",
              "      <td>45</td>\n",
              "      <td>1</td>\n",
              "      <td>3</td>\n",
              "      <td>110</td>\n",
              "      <td>264</td>\n",
              "      <td>0</td>\n",
              "      <td>1</td>\n",
              "      <td>132</td>\n",
              "      <td>0</td>\n",
              "      <td>1.2</td>\n",
              "      <td>1</td>\n",
              "      <td>0</td>\n",
              "      <td>3</td>\n",
              "      <td>0</td>\n",
              "    </tr>\n",
              "    <tr>\n",
              "      <th>300</th>\n",
              "      <td>68</td>\n",
              "      <td>1</td>\n",
              "      <td>0</td>\n",
              "      <td>144</td>\n",
              "      <td>193</td>\n",
              "      <td>1</td>\n",
              "      <td>1</td>\n",
              "      <td>141</td>\n",
              "      <td>0</td>\n",
              "      <td>3.4</td>\n",
              "      <td>1</td>\n",
              "      <td>2</td>\n",
              "      <td>3</td>\n",
              "      <td>0</td>\n",
              "    </tr>\n",
              "    <tr>\n",
              "      <th>301</th>\n",
              "      <td>57</td>\n",
              "      <td>1</td>\n",
              "      <td>0</td>\n",
              "      <td>130</td>\n",
              "      <td>131</td>\n",
              "      <td>0</td>\n",
              "      <td>1</td>\n",
              "      <td>115</td>\n",
              "      <td>1</td>\n",
              "      <td>1.2</td>\n",
              "      <td>1</td>\n",
              "      <td>1</td>\n",
              "      <td>3</td>\n",
              "      <td>0</td>\n",
              "    </tr>\n",
              "    <tr>\n",
              "      <th>302</th>\n",
              "      <td>57</td>\n",
              "      <td>0</td>\n",
              "      <td>1</td>\n",
              "      <td>130</td>\n",
              "      <td>236</td>\n",
              "      <td>0</td>\n",
              "      <td>0</td>\n",
              "      <td>174</td>\n",
              "      <td>0</td>\n",
              "      <td>0.0</td>\n",
              "      <td>1</td>\n",
              "      <td>1</td>\n",
              "      <td>2</td>\n",
              "      <td>0</td>\n",
              "    </tr>\n",
              "  </tbody>\n",
              "</table>\n",
              "<p>303 rows × 14 columns</p>\n",
              "</div>\n",
              "    <div class=\"colab-df-buttons\">\n",
              "\n",
              "  <div class=\"colab-df-container\">\n",
              "    <button class=\"colab-df-convert\" onclick=\"convertToInteractive('df-329a6ba5-53e5-4a00-be74-e322b5f097b9')\"\n",
              "            title=\"Convert this dataframe to an interactive table.\"\n",
              "            style=\"display:none;\">\n",
              "\n",
              "  <svg xmlns=\"http://www.w3.org/2000/svg\" height=\"24px\" viewBox=\"0 -960 960 960\">\n",
              "    <path d=\"M120-120v-720h720v720H120Zm60-500h600v-160H180v160Zm220 220h160v-160H400v160Zm0 220h160v-160H400v160ZM180-400h160v-160H180v160Zm440 0h160v-160H620v160ZM180-180h160v-160H180v160Zm440 0h160v-160H620v160Z\"/>\n",
              "  </svg>\n",
              "    </button>\n",
              "\n",
              "  <style>\n",
              "    .colab-df-container {\n",
              "      display:flex;\n",
              "      gap: 12px;\n",
              "    }\n",
              "\n",
              "    .colab-df-convert {\n",
              "      background-color: #E8F0FE;\n",
              "      border: none;\n",
              "      border-radius: 50%;\n",
              "      cursor: pointer;\n",
              "      display: none;\n",
              "      fill: #1967D2;\n",
              "      height: 32px;\n",
              "      padding: 0 0 0 0;\n",
              "      width: 32px;\n",
              "    }\n",
              "\n",
              "    .colab-df-convert:hover {\n",
              "      background-color: #E2EBFA;\n",
              "      box-shadow: 0px 1px 2px rgba(60, 64, 67, 0.3), 0px 1px 3px 1px rgba(60, 64, 67, 0.15);\n",
              "      fill: #174EA6;\n",
              "    }\n",
              "\n",
              "    .colab-df-buttons div {\n",
              "      margin-bottom: 4px;\n",
              "    }\n",
              "\n",
              "    [theme=dark] .colab-df-convert {\n",
              "      background-color: #3B4455;\n",
              "      fill: #D2E3FC;\n",
              "    }\n",
              "\n",
              "    [theme=dark] .colab-df-convert:hover {\n",
              "      background-color: #434B5C;\n",
              "      box-shadow: 0px 1px 3px 1px rgba(0, 0, 0, 0.15);\n",
              "      filter: drop-shadow(0px 1px 2px rgba(0, 0, 0, 0.3));\n",
              "      fill: #FFFFFF;\n",
              "    }\n",
              "  </style>\n",
              "\n",
              "    <script>\n",
              "      const buttonEl =\n",
              "        document.querySelector('#df-329a6ba5-53e5-4a00-be74-e322b5f097b9 button.colab-df-convert');\n",
              "      buttonEl.style.display =\n",
              "        google.colab.kernel.accessAllowed ? 'block' : 'none';\n",
              "\n",
              "      async function convertToInteractive(key) {\n",
              "        const element = document.querySelector('#df-329a6ba5-53e5-4a00-be74-e322b5f097b9');\n",
              "        const dataTable =\n",
              "          await google.colab.kernel.invokeFunction('convertToInteractive',\n",
              "                                                    [key], {});\n",
              "        if (!dataTable) return;\n",
              "\n",
              "        const docLinkHtml = 'Like what you see? Visit the ' +\n",
              "          '<a target=\"_blank\" href=https://colab.research.google.com/notebooks/data_table.ipynb>data table notebook</a>'\n",
              "          + ' to learn more about interactive tables.';\n",
              "        element.innerHTML = '';\n",
              "        dataTable['output_type'] = 'display_data';\n",
              "        await google.colab.output.renderOutput(dataTable, element);\n",
              "        const docLink = document.createElement('div');\n",
              "        docLink.innerHTML = docLinkHtml;\n",
              "        element.appendChild(docLink);\n",
              "      }\n",
              "    </script>\n",
              "  </div>\n",
              "\n",
              "\n",
              "<div id=\"df-ff4d5009-56c7-415c-aa9c-02dc547b7d24\">\n",
              "  <button class=\"colab-df-quickchart\" onclick=\"quickchart('df-ff4d5009-56c7-415c-aa9c-02dc547b7d24')\"\n",
              "            title=\"Suggest charts\"\n",
              "            style=\"display:none;\">\n",
              "\n",
              "<svg xmlns=\"http://www.w3.org/2000/svg\" height=\"24px\"viewBox=\"0 0 24 24\"\n",
              "     width=\"24px\">\n",
              "    <g>\n",
              "        <path d=\"M19 3H5c-1.1 0-2 .9-2 2v14c0 1.1.9 2 2 2h14c1.1 0 2-.9 2-2V5c0-1.1-.9-2-2-2zM9 17H7v-7h2v7zm4 0h-2V7h2v10zm4 0h-2v-4h2v4z\"/>\n",
              "    </g>\n",
              "</svg>\n",
              "  </button>\n",
              "\n",
              "<style>\n",
              "  .colab-df-quickchart {\n",
              "      --bg-color: #E8F0FE;\n",
              "      --fill-color: #1967D2;\n",
              "      --hover-bg-color: #E2EBFA;\n",
              "      --hover-fill-color: #174EA6;\n",
              "      --disabled-fill-color: #AAA;\n",
              "      --disabled-bg-color: #DDD;\n",
              "  }\n",
              "\n",
              "  [theme=dark] .colab-df-quickchart {\n",
              "      --bg-color: #3B4455;\n",
              "      --fill-color: #D2E3FC;\n",
              "      --hover-bg-color: #434B5C;\n",
              "      --hover-fill-color: #FFFFFF;\n",
              "      --disabled-bg-color: #3B4455;\n",
              "      --disabled-fill-color: #666;\n",
              "  }\n",
              "\n",
              "  .colab-df-quickchart {\n",
              "    background-color: var(--bg-color);\n",
              "    border: none;\n",
              "    border-radius: 50%;\n",
              "    cursor: pointer;\n",
              "    display: none;\n",
              "    fill: var(--fill-color);\n",
              "    height: 32px;\n",
              "    padding: 0;\n",
              "    width: 32px;\n",
              "  }\n",
              "\n",
              "  .colab-df-quickchart:hover {\n",
              "    background-color: var(--hover-bg-color);\n",
              "    box-shadow: 0 1px 2px rgba(60, 64, 67, 0.3), 0 1px 3px 1px rgba(60, 64, 67, 0.15);\n",
              "    fill: var(--button-hover-fill-color);\n",
              "  }\n",
              "\n",
              "  .colab-df-quickchart-complete:disabled,\n",
              "  .colab-df-quickchart-complete:disabled:hover {\n",
              "    background-color: var(--disabled-bg-color);\n",
              "    fill: var(--disabled-fill-color);\n",
              "    box-shadow: none;\n",
              "  }\n",
              "\n",
              "  .colab-df-spinner {\n",
              "    border: 2px solid var(--fill-color);\n",
              "    border-color: transparent;\n",
              "    border-bottom-color: var(--fill-color);\n",
              "    animation:\n",
              "      spin 1s steps(1) infinite;\n",
              "  }\n",
              "\n",
              "  @keyframes spin {\n",
              "    0% {\n",
              "      border-color: transparent;\n",
              "      border-bottom-color: var(--fill-color);\n",
              "      border-left-color: var(--fill-color);\n",
              "    }\n",
              "    20% {\n",
              "      border-color: transparent;\n",
              "      border-left-color: var(--fill-color);\n",
              "      border-top-color: var(--fill-color);\n",
              "    }\n",
              "    30% {\n",
              "      border-color: transparent;\n",
              "      border-left-color: var(--fill-color);\n",
              "      border-top-color: var(--fill-color);\n",
              "      border-right-color: var(--fill-color);\n",
              "    }\n",
              "    40% {\n",
              "      border-color: transparent;\n",
              "      border-right-color: var(--fill-color);\n",
              "      border-top-color: var(--fill-color);\n",
              "    }\n",
              "    60% {\n",
              "      border-color: transparent;\n",
              "      border-right-color: var(--fill-color);\n",
              "    }\n",
              "    80% {\n",
              "      border-color: transparent;\n",
              "      border-right-color: var(--fill-color);\n",
              "      border-bottom-color: var(--fill-color);\n",
              "    }\n",
              "    90% {\n",
              "      border-color: transparent;\n",
              "      border-bottom-color: var(--fill-color);\n",
              "    }\n",
              "  }\n",
              "</style>\n",
              "\n",
              "  <script>\n",
              "    async function quickchart(key) {\n",
              "      const quickchartButtonEl =\n",
              "        document.querySelector('#' + key + ' button');\n",
              "      quickchartButtonEl.disabled = true;  // To prevent multiple clicks.\n",
              "      quickchartButtonEl.classList.add('colab-df-spinner');\n",
              "      try {\n",
              "        const charts = await google.colab.kernel.invokeFunction(\n",
              "            'suggestCharts', [key], {});\n",
              "      } catch (error) {\n",
              "        console.error('Error during call to suggestCharts:', error);\n",
              "      }\n",
              "      quickchartButtonEl.classList.remove('colab-df-spinner');\n",
              "      quickchartButtonEl.classList.add('colab-df-quickchart-complete');\n",
              "    }\n",
              "    (() => {\n",
              "      let quickchartButtonEl =\n",
              "        document.querySelector('#df-ff4d5009-56c7-415c-aa9c-02dc547b7d24 button');\n",
              "      quickchartButtonEl.style.display =\n",
              "        google.colab.kernel.accessAllowed ? 'block' : 'none';\n",
              "    })();\n",
              "  </script>\n",
              "</div>\n",
              "    </div>\n",
              "  </div>\n"
            ]
          },
          "metadata": {},
          "execution_count": 25
        }
      ]
    },
    {
      "cell_type": "code",
      "source": [
        "df.target.value_counts()"
      ],
      "metadata": {
        "colab": {
          "base_uri": "https://localhost:8080/"
        },
        "id": "2mv0azmtJNu3",
        "outputId": "9bfa346f-c741-4a5a-c7a6-6b2262f42913"
      },
      "execution_count": null,
      "outputs": [
        {
          "output_type": "execute_result",
          "data": {
            "text/plain": [
              "1    165\n",
              "0    138\n",
              "Name: target, dtype: int64"
            ]
          },
          "metadata": {},
          "execution_count": 29
        }
      ]
    },
    {
      "cell_type": "code",
      "source": [
        "for column in df:\n",
        "    print(df[column].value_counts())\n"
      ],
      "metadata": {
        "colab": {
          "base_uri": "https://localhost:8080/"
        },
        "id": "1u0bnUa4J9j1",
        "outputId": "710a8960-64c6-4057-dcf1-eea1bc8c86de"
      },
      "execution_count": null,
      "outputs": [
        {
          "output_type": "stream",
          "name": "stdout",
          "text": [
            "58    19\n",
            "57    17\n",
            "54    16\n",
            "59    14\n",
            "52    13\n",
            "51    12\n",
            "62    11\n",
            "60    11\n",
            "44    11\n",
            "56    11\n",
            "64    10\n",
            "41    10\n",
            "63     9\n",
            "67     9\n",
            "65     8\n",
            "43     8\n",
            "45     8\n",
            "55     8\n",
            "42     8\n",
            "61     8\n",
            "53     8\n",
            "46     7\n",
            "48     7\n",
            "66     7\n",
            "50     7\n",
            "49     5\n",
            "47     5\n",
            "70     4\n",
            "39     4\n",
            "35     4\n",
            "68     4\n",
            "38     3\n",
            "71     3\n",
            "40     3\n",
            "69     3\n",
            "34     2\n",
            "37     2\n",
            "29     1\n",
            "74     1\n",
            "76     1\n",
            "77     1\n",
            "Name: age, dtype: int64\n",
            "1    207\n",
            "0     96\n",
            "Name: sex, dtype: int64\n",
            "0    143\n",
            "2     87\n",
            "1     50\n",
            "3     23\n",
            "Name: cp, dtype: int64\n",
            "120    37\n",
            "130    36\n",
            "140    32\n",
            "110    19\n",
            "150    17\n",
            "138    13\n",
            "128    12\n",
            "160    11\n",
            "125    11\n",
            "112     9\n",
            "132     8\n",
            "118     7\n",
            "124     6\n",
            "135     6\n",
            "108     6\n",
            "152     5\n",
            "134     5\n",
            "145     5\n",
            "122     4\n",
            "170     4\n",
            "100     4\n",
            "105     3\n",
            "126     3\n",
            "115     3\n",
            "180     3\n",
            "136     3\n",
            "142     3\n",
            "102     2\n",
            "148     2\n",
            "178     2\n",
            "94      2\n",
            "144     2\n",
            "146     2\n",
            "200     1\n",
            "114     1\n",
            "154     1\n",
            "123     1\n",
            "192     1\n",
            "174     1\n",
            "165     1\n",
            "104     1\n",
            "117     1\n",
            "101     1\n",
            "156     1\n",
            "106     1\n",
            "155     1\n",
            "129     1\n",
            "172     1\n",
            "164     1\n",
            "Name: trestbps, dtype: int64\n",
            "204    6\n",
            "197    6\n",
            "234    6\n",
            "269    5\n",
            "254    5\n",
            "      ..\n",
            "284    1\n",
            "224    1\n",
            "167    1\n",
            "276    1\n",
            "131    1\n",
            "Name: chol, Length: 152, dtype: int64\n",
            "0    258\n",
            "1     45\n",
            "Name: fbs, dtype: int64\n",
            "1    152\n",
            "0    147\n",
            "2      4\n",
            "Name: restecg, dtype: int64\n",
            "162    11\n",
            "160     9\n",
            "163     9\n",
            "152     8\n",
            "173     8\n",
            "       ..\n",
            "202     1\n",
            "184     1\n",
            "121     1\n",
            "192     1\n",
            "90      1\n",
            "Name: thalach, Length: 91, dtype: int64\n",
            "0    204\n",
            "1     99\n",
            "Name: exang, dtype: int64\n",
            "0.0    99\n",
            "1.2    17\n",
            "1.0    14\n",
            "0.6    14\n",
            "1.4    13\n",
            "0.8    13\n",
            "0.2    12\n",
            "1.6    11\n",
            "1.8    10\n",
            "0.4     9\n",
            "2.0     9\n",
            "0.1     7\n",
            "2.8     6\n",
            "2.6     6\n",
            "1.5     5\n",
            "3.0     5\n",
            "1.9     5\n",
            "0.5     5\n",
            "3.6     4\n",
            "2.2     4\n",
            "2.4     3\n",
            "0.9     3\n",
            "3.4     3\n",
            "4.0     3\n",
            "0.3     3\n",
            "2.3     2\n",
            "3.2     2\n",
            "2.5     2\n",
            "4.2     2\n",
            "1.1     2\n",
            "3.1     1\n",
            "0.7     1\n",
            "3.5     1\n",
            "6.2     1\n",
            "1.3     1\n",
            "5.6     1\n",
            "2.9     1\n",
            "2.1     1\n",
            "3.8     1\n",
            "4.4     1\n",
            "Name: oldpeak, dtype: int64\n",
            "2    142\n",
            "1    140\n",
            "0     21\n",
            "Name: slope, dtype: int64\n",
            "0    175\n",
            "1     65\n",
            "2     38\n",
            "3     20\n",
            "4      5\n",
            "Name: ca, dtype: int64\n",
            "2    166\n",
            "3    117\n",
            "1     18\n",
            "0      2\n",
            "Name: thal, dtype: int64\n",
            "1    165\n",
            "0    138\n",
            "Name: target, dtype: int64\n"
          ]
        }
      ]
    },
    {
      "cell_type": "code",
      "source": [
        "pd.crosstab(df.sex,df.target).plot(kind=\"bar\",figsize=(10,6),color=['#1CA53B','#AA1111' ])\n",
        "plt.title('Heart Disease Frequency for Sex')\n",
        "plt.xlabel('Sex (0 = Female, 1 = Male)')\n",
        "plt.xticks(rotation=0)\n",
        "plt.legend([\"Haven't Disease\", \"Have Disease\"])\n",
        "plt.ylabel('Frequency')\n",
        "plt.show()"
      ],
      "metadata": {
        "colab": {
          "base_uri": "https://localhost:8080/",
          "height": 564
        },
        "id": "VoZkGpffLOnF",
        "outputId": "993ff85c-630c-4d5b-d469-cc0ee7d35757"
      },
      "execution_count": null,
      "outputs": [
        {
          "output_type": "display_data",
          "data": {
            "text/plain": [
              "<Figure size 1000x600 with 1 Axes>"
            ],
            "image/png": "[encoded data removed]"
          },
          "metadata": {}
        }
      ]
    },
    {
      "cell_type": "markdown",
      "source": [
        "using plot we can say males are more affected than female by have disease"
      ],
      "metadata": {
        "id": "eewbJJmCMTBW"
      }
    },
    {
      "cell_type": "code",
      "source": [
        "df[df.target==1].age.sort_values(ascending= True)"
      ],
      "metadata": {
        "colab": {
          "base_uri": "https://localhost:8080/"
        },
        "id": "lcUFx4x3MlA0",
        "outputId": "ee92ca64-71a8-4800-83a8-5ce0f2ccb03e"
      },
      "execution_count": null,
      "outputs": [
        {
          "output_type": "execute_result",
          "data": {
            "text/plain": [
              "72     29\n",
              "58     34\n",
              "125    34\n",
              "157    35\n",
              "65     35\n",
              "       ..\n",
              "60     71\n",
              "25     71\n",
              "151    71\n",
              "129    74\n",
              "144    76\n",
              "Name: age, Length: 165, dtype: int64"
            ]
          },
          "metadata": {},
          "execution_count": 32
        }
      ]
    },
    {
      "cell_type": "code",
      "source": [
        "df[df.target==0].age.sort_values(ascending= True)"
      ],
      "metadata": {
        "colab": {
          "base_uri": "https://localhost:8080/"
        },
        "id": "MAZTuDwdNAMU",
        "outputId": "45fcf68e-73f8-45a1-b83b-c1679e95bd96"
      },
      "execution_count": null,
      "outputs": [
        {
          "output_type": "execute_result",
          "data": {
            "text/plain": [
              "227    35\n",
              "239    35\n",
              "259    38\n",
              "212    39\n",
              "175    40\n",
              "       ..\n",
              "249    69\n",
              "234    70\n",
              "240    70\n",
              "225    70\n",
              "238    77\n",
              "Name: age, Length: 138, dtype: int64"
            ]
          },
          "metadata": {},
          "execution_count": 33
        }
      ]
    },
    {
      "cell_type": "code",
      "source": [
        "g = sns.FacetGrid(data=df, col='target')\n",
        "g.map(plt.hist,'age')"
      ],
      "metadata": {
        "colab": {
          "base_uri": "https://localhost:8080/",
          "height": 324
        },
        "id": "lZ5mKcDRNw5d",
        "outputId": "de1e7a2e-3881-46d4-d500-93309c5b1fd0"
      },
      "execution_count": null,
      "outputs": [
        {
          "output_type": "execute_result",
          "data": {
            "text/plain": [
              "<seaborn.axisgrid.FacetGrid at 0x782344163820>"
            ]
          },
          "metadata": {},
          "execution_count": 40
        },
        {
          "output_type": "display_data",
          "data": {
            "text/plain": [
              "<Figure size 600x300 with 2 Axes>"
            ],
            "image/png": "[encoded data removed]"
          },
          "metadata": {}
        }
      ]
    },
    {
      "cell_type": "code",
      "source": [
        "df[df.target==1].age.max()"
      ],
      "metadata": {
        "colab": {
          "base_uri": "https://localhost:8080/"
        },
        "id": "xvnnNtziPMNS",
        "outputId": "6bbd1274-3cc1-4540-c3d1-2fd3d6a3426a"
      },
      "execution_count": null,
      "outputs": [
        {
          "output_type": "execute_result",
          "data": {
            "text/plain": [
              "76"
            ]
          },
          "metadata": {},
          "execution_count": 41
        }
      ]
    },
    {
      "cell_type": "code",
      "source": [
        "df[df.target==1].age.min()"
      ],
      "metadata": {
        "colab": {
          "base_uri": "https://localhost:8080/"
        },
        "id": "Tl8p8uQNPOXZ",
        "outputId": "8424797d-6b9f-43ba-b1ab-38043f21aa45"
      },
      "execution_count": null,
      "outputs": [
        {
          "output_type": "execute_result",
          "data": {
            "text/plain": [
              "29"
            ]
          },
          "metadata": {},
          "execution_count": 42
        }
      ]
    },
    {
      "cell_type": "markdown",
      "source": [
        "In the age of 29 to 76 peoples are affected by a have disease"
      ],
      "metadata": {
        "id": "gFOHWQNQPRA5"
      }
    },
    {
      "cell_type": "markdown",
      "source": [
        "From here we can say that as age increases, people got affected more by the heart disease than younger people"
      ],
      "metadata": {
        "id": "-2Fna8RwPBxC"
      }
    },
    {
      "cell_type": "code",
      "source": [
        "sns.countplot(x='cp', hue='sex', data=df)\n",
        "plt.xlabel('Sex (0 = Female, 1 = Male)')"
      ],
      "metadata": {
        "colab": {
          "base_uri": "https://localhost:8080/",
          "height": 466
        },
        "id": "fH8BNdohPEeK",
        "outputId": "17482bb9-df1e-43fa-a3c9-b146f8fc75ce"
      },
      "execution_count": null,
      "outputs": [
        {
          "output_type": "execute_result",
          "data": {
            "text/plain": [
              "Text(0.5, 0, 'Sex (0 = Female, 1 = Male)')"
            ]
          },
          "metadata": {},
          "execution_count": 46
        },
        {
          "output_type": "display_data",
          "data": {
            "text/plain": [
              "<Figure size 640x480 with 1 Axes>"
            ],
            "image/png": "[encoded data removed]"
          },
          "metadata": {}
        }
      ]
    },
    {
      "cell_type": "markdown",
      "source": [
        "For the case of female, this affected rate is very minimum compared with the male."
      ],
      "metadata": {
        "id": "rcNWL5kyQOmC"
      }
    },
    {
      "cell_type": "code",
      "source": [
        "sns.countplot(x='fbs', hue='target', data=df)"
      ],
      "metadata": {
        "colab": {
          "base_uri": "https://localhost:8080/",
          "height": 466
        },
        "id": "kaVmeFITPsBa",
        "outputId": "9f7d1620-3834-4883-bd3c-13774f97b53b"
      },
      "execution_count": null,
      "outputs": [
        {
          "output_type": "execute_result",
          "data": {
            "text/plain": [
              "<Axes: xlabel='fbs', ylabel='count'>"
            ]
          },
          "metadata": {},
          "execution_count": 48
        },
        {
          "output_type": "display_data",
          "data": {
            "text/plain": [
              "<Figure size 640x480 with 1 Axes>"
            ],
            "image/png": "[encoded data removed]"
          },
          "metadata": {}
        }
      ]
    },
    {
      "cell_type": "markdown",
      "source": [
        "fbs - (fasting blood sugar > 120 mg/dl) (1 = true; 0 = false)\n",
        "\n",
        "According to our dataset who has FastingBS they are lesser affected by the heart disease, and\n",
        "who has not FastingBS they affected in high amounts by heart disease"
      ],
      "metadata": {
        "id": "CcZTqHBnQcoq"
      }
    },
    {
      "cell_type": "code",
      "source": [
        "#Cholesterol with have disease\n",
        "df[df.target == 1].chol.value_counts()"
      ],
      "metadata": {
        "colab": {
          "base_uri": "https://localhost:8080/"
        },
        "id": "SBVUvLIqQz6s",
        "outputId": "621a5db0-0733-4251-b531-320dee6ffc77"
      },
      "execution_count": null,
      "outputs": [
        {
          "output_type": "execute_result",
          "data": {
            "text/plain": [
              "240    4\n",
              "204    4\n",
              "226    4\n",
              "197    4\n",
              "211    4\n",
              "      ..\n",
              "275    1\n",
              "318    1\n",
              "298    1\n",
              "304    1\n",
              "157    1\n",
              "Name: chol, Length: 104, dtype: int64"
            ]
          },
          "metadata": {},
          "execution_count": 49
        }
      ]
    },
    {
      "cell_type": "code",
      "source": [
        "df.groupby(\"sex\").chol.count()"
      ],
      "metadata": {
        "colab": {
          "base_uri": "https://localhost:8080/"
        },
        "id": "74GFR8wRSJ9F",
        "outputId": "3384612b-fd87-4b02-ca95-28284b51f4c8"
      },
      "execution_count": null,
      "outputs": [
        {
          "output_type": "execute_result",
          "data": {
            "text/plain": [
              "sex\n",
              "0     96\n",
              "1    207\n",
              "Name: chol, dtype: int64"
            ]
          },
          "metadata": {},
          "execution_count": 53
        }
      ]
    },
    {
      "cell_type": "markdown",
      "source": [
        "Males have more Cholesterol than females"
      ],
      "metadata": {
        "id": "c_x9E1txSgRR"
      }
    },
    {
      "cell_type": "code",
      "source": [
        "sns.countplot(x='restecg', hue='target', data=df)"
      ],
      "metadata": {
        "colab": {
          "base_uri": "https://localhost:8080/",
          "height": 469
        },
        "id": "raThPtuaSdw6",
        "outputId": "6a8deb4b-29d1-439b-d10e-5dbcfe661ea1"
      },
      "execution_count": null,
      "outputs": [
        {
          "output_type": "execute_result",
          "data": {
            "text/plain": [
              "<Axes: xlabel='restecg', ylabel='count'>"
            ]
          },
          "metadata": {},
          "execution_count": 54
        },
        {
          "output_type": "display_data",
          "data": {
            "text/plain": [
              "<Figure size 640x480 with 1 Axes>"
            ],
            "image/png": "[encoded data removed]"
          },
          "metadata": {}
        }
      ]
    },
    {
      "cell_type": "code",
      "source": [
        "sns.countplot(x='exang', hue='target', data=df)\n",
        "plt.legend([\"Haven't Disease\", \"Have Disease\"])"
      ],
      "metadata": {
        "colab": {
          "base_uri": "https://localhost:8080/",
          "height": 466
        },
        "id": "hsLrixHmUjT6",
        "outputId": "52298a71-cafd-4b48-b693-e675e3fe2d9a"
      },
      "execution_count": null,
      "outputs": [
        {
          "output_type": "execute_result",
          "data": {
            "text/plain": [
              "<matplotlib.legend.Legend at 0x78234359e560>"
            ]
          },
          "metadata": {},
          "execution_count": 57
        },
        {
          "output_type": "display_data",
          "data": {
            "text/plain": [
              "<Figure size 640x480 with 1 Axes>"
            ],
            "image/png": "[encoded data removed]"
          },
          "metadata": {}
        }
      ]
    },
    {
      "cell_type": "markdown",
      "source": [
        "Who has ExerciseAngina or who do not exercise, they are affected highly in Heart Disease\n",
        "\n",
        "Who doing exercise daily, they are affected in lesser amount"
      ],
      "metadata": {
        "id": "SNssPT2nU7lz"
      }
    },
    {
      "cell_type": "code",
      "source": [
        "import pandas as pd\n",
        "\n",
        "import seaborn as sns\n",
        "import matplotlib.pyplot as plt\n",
        "\n",
        "# Assuming df is your DataFrame\n",
        "exang_y = df[df['exang'] == 'Y']\n",
        "\n",
        "# Define bins and labels for age groups\n",
        "bins = [15, 25, 50, 80]\n",
        "labels = ['15-30','31-40', '41-80']\n",
        "\n",
        "# Create a new column 'AgeGroup' with the age groups\n",
        "exang_y['AgeGroup'] = pd.cut(df['age'], bins=bins, labels=labels, right=False)\n",
        "\n",
        "# Create a countplot using Seaborn\n",
        "sns.countplot(x='AgeGroup', data=exang_y, order=labels)\n",
        "\n",
        "# Set plot labels and title\n",
        "plt.xlabel('Age Group')\n",
        "plt.ylabel('Count')\n",
        "plt.title('Age Distribution for exang=\"Y\"')\n",
        "\n",
        "# Show the plot\n",
        "plt.show()\n"
      ],
      "metadata": {
        "colab": {
          "base_uri": "https://localhost:8080/",
          "height": 576
        },
        "id": "yAfKzspyU-m-",
        "outputId": "882e52ab-6255-4d6c-beb4-71193227a27d"
      },
      "execution_count": null,
      "outputs": [
        {
          "output_type": "stream",
          "name": "stderr",
          "text": [
            "<ipython-input-63-8f09a6a6e2d9>:14: SettingWithCopyWarning: \n",
            "A value is trying to be set on a copy of a slice from a DataFrame.\n",
            "Try using .loc[row_indexer,col_indexer] = value instead\n",
            "\n",
            "See the caveats in the documentation: https://pandas.pydata.org/pandas-docs/stable/user_guide/indexing.html#returning-a-view-versus-a-copy\n",
            "  exang_y['AgeGroup'] = pd.cut(df['age'], bins=bins, labels=labels, right=False)\n"
          ]
        },
        {
          "output_type": "display_data",
          "data": {
            "text/plain": [
              "<Figure size 640x480 with 1 Axes>"
            ],
            "image/png": "[encoded data removed]"
          },
          "metadata": {}
        }
      ]
    },
    {
      "cell_type": "markdown",
      "source": [
        "Old people has more ExerciseAngina than youngers"
      ],
      "metadata": {
        "id": "l4js6rSCWtiV"
      }
    },
    {
      "cell_type": "code",
      "source": [
        "pd.crosstab(df.age,df.target).plot(kind=\"bar\",figsize=(20,6))\n",
        "plt.title('Heart Disease Frequency for Ages')\n",
        "plt.xlabel('age')\n",
        "plt.ylabel('Frequency')\n",
        "plt.savefig('heartDiseaseAndAges.png')\n",
        "plt.show()"
      ],
      "metadata": {
        "colab": {
          "base_uri": "https://localhost:8080/",
          "height": 527
        },
        "id": "755jOFA3YOoQ",
        "outputId": "03b19442-ac7b-49ad-89ca-d3181d556b97"
      },
      "execution_count": null,
      "outputs": [
        {
          "output_type": "display_data",
          "data": {
            "text/plain": [
              "<Figure size 2000x600 with 1 Axes>"
            ],
            "image/png": "[encoded data removed]"
          },
          "metadata": {}
        }
      ]
    },
    {
      "cell_type": "code",
      "source": [
        "plt.scatter(x=df.age[df.target==1], y=df.thalach[(df.target==1)], c=\"red\")\n",
        "plt.scatter(x=df.age[df.target==0], y=df.thalach[(df.target==0)])\n",
        "plt.legend([\"Disease\", \"Not Disease\"])\n",
        "plt.xlabel(\"age\")\n",
        "plt.ylabel(\"Maximum Heart Rate\")\n",
        "plt.show()"
      ],
      "metadata": {
        "colab": {
          "base_uri": "https://localhost:8080/",
          "height": 449
        },
        "id": "fxJZro3mYkTY",
        "outputId": "2c8fffba-5557-4acf-a3e8-b5cc477737bf"
      },
      "execution_count": null,
      "outputs": [
        {
          "output_type": "display_data",
          "data": {
            "text/plain": [
              "<Figure size 640x480 with 1 Axes>"
            ],
            "image/png": "[encoded data removed]"
          },
          "metadata": {}
        }
      ]
    },
    {
      "cell_type": "code",
      "source": [
        "sns.countplot(x='thal', hue='target', data=df)\n",
        "plt.legend([\"Disease\", \"Not Disease\"])"
      ],
      "metadata": {
        "colab": {
          "base_uri": "https://localhost:8080/",
          "height": 466
        },
        "id": "4a1TC8vgY7oH",
        "outputId": "be3e73b2-daa6-4f1b-b90c-91c52b4501ea"
      },
      "execution_count": null,
      "outputs": [
        {
          "output_type": "execute_result",
          "data": {
            "text/plain": [
              "<matplotlib.legend.Legend at 0x78233cfc53f0>"
            ]
          },
          "metadata": {},
          "execution_count": 69
        },
        {
          "output_type": "display_data",
          "data": {
            "text/plain": [
              "<Figure size 640x480 with 1 Axes>"
            ],
            "image/png": "[encoded data removed]"
          },
          "metadata": {}
        }
      ]
    },
    {
      "cell_type": "code",
      "source": [
        "target_y = df[df['target'] == '1']\n",
        "\n",
        "# Define bins and labels for age groups\n",
        "bins = [15, 25, 50, 80]\n",
        "labels = ['15-30','31-40', '41-80']\n",
        "\n",
        "# Create a new column 'AgeGroup' with the age groups\n",
        "target_y['AgeGroup'] = pd.cut(df['age'], bins=bins, labels=labels, right=False)\n",
        "\n",
        "# Create a countplot using Seaborn\n",
        "sns.countplot(x='AgeGroup', data=target_y, order=labels)\n",
        "\n",
        "# Set plot labels and title\n",
        "plt.xlabel('Age Group')\n",
        "plt.ylabel('Count')\n",
        "plt.title('Age Distribution for target=\"1\"')\n",
        "\n",
        "# Show the plot\n",
        "plt.show()\n"
      ],
      "metadata": {
        "colab": {
          "base_uri": "https://localhost:8080/",
          "height": 576
        },
        "id": "WlBpZ0yLaWOv",
        "outputId": "ab59ca3d-a97e-4a45-9c99-5a5689bbf3a3"
      },
      "execution_count": null,
      "outputs": [
        {
          "output_type": "stream",
          "name": "stderr",
          "text": [
            "<ipython-input-73-cfe278ea90a7>:8: SettingWithCopyWarning: \n",
            "A value is trying to be set on a copy of a slice from a DataFrame.\n",
            "Try using .loc[row_indexer,col_indexer] = value instead\n",
            "\n",
            "See the caveats in the documentation: https://pandas.pydata.org/pandas-docs/stable/user_guide/indexing.html#returning-a-view-versus-a-copy\n",
            "  target_y['AgeGroup'] = pd.cut(df['age'], bins=bins, labels=labels, right=False)\n"
          ]
        },
        {
          "output_type": "display_data",
          "data": {
            "text/plain": [
              "<Figure size 640x480 with 1 Axes>"
            ],
            "image/png": "[encoded data removed]"
          },
          "metadata": {}
        }
      ]
    },
    {
      "cell_type": "markdown",
      "source": [
        "# **Conclusion from the EDA:**\n",
        "\n",
        "1. Age wise we can say aged people (more specifically above 50) needs more awareness by changing their lifestyle, food habits, doing exercise everyday, then only they can prevent this Heart Disease\n",
        "\n",
        "2. According to our dataset sex wise males are more affected, so males need more aware\n",
        "about heart disease\n",
        "3. Who do not have blood sugar that's good thing, but they should keep aware about heart\n",
        "disease, because according to our dataset they are affected more in heart disease\n",
        "4. Every person should keep some good habits in their daily life regardless age & sex wise,\n",
        "then only we can prevent heart disease. Because this disease never occurs overnight,\n",
        "5. Place heightened emphasis on individuals aged 40 and above, given that they represent the predominant demographic affected by heart disease.\n",
        "\n",
        "\n",
        "\n",
        "\n",
        "\n"
      ],
      "metadata": {
        "id": "6H4u0LowZuDn"
      }
    },
    {
      "cell_type": "markdown",
      "source": [
        "# **Split The Data**"
      ],
      "metadata": {
        "id": "eF4VmJHndNaW"
      }
    },
    {
      "cell_type": "code",
      "source": [
        "X=df.drop(['target'],axis=1)\n",
        "y=df['target']"
      ],
      "metadata": {
        "id": "Gx5JG1b8ZxjS"
      },
      "execution_count": null,
      "outputs": []
    },
    {
      "cell_type": "code",
      "source": [
        "\n",
        "from sklearn.model_selection import train_test_split\n",
        "X_train, X_test, y_train, y_test = train_test_split(X, y, test_size=0.3, random_state=111) # split the data\n"
      ],
      "metadata": {
        "id": "nvMdwf37dYf7"
      },
      "execution_count": null,
      "outputs": []
    },
    {
      "cell_type": "markdown",
      "source": [
        "# **Logistic regression**"
      ],
      "metadata": {
        "id": "kJs8WO6BeXCk"
      }
    },
    {
      "cell_type": "code",
      "source": [
        "from sklearn.linear_model import LogisticRegression\n",
        "log_reg = LogisticRegression() # initialise the model, ready to be used\n",
        "log_reg.fit(X_train, y_train) #training of data happens"
      ],
      "metadata": {
        "colab": {
          "base_uri": "https://localhost:8080/",
          "height": 214
        },
        "id": "Zdg9trWtdarD",
        "outputId": "4cbfbef7-d00c-40cd-b72c-883634fbcdf5"
      },
      "execution_count": null,
      "outputs": [
        {
          "output_type": "stream",
          "name": "stderr",
          "text": [
            "/usr/local/lib/python3.10/dist-packages/sklearn/linear_model/_logistic.py:458: ConvergenceWarning: lbfgs failed to converge (status=1):\n",
            "STOP: TOTAL NO. of ITERATIONS REACHED LIMIT.\n",
            "\n",
            "Increase the number of iterations (max_iter) or scale the data as shown in:\n",
            "    https://scikit-learn.org/stable/modules/preprocessing.html\n",
            "Please also refer to the documentation for alternative solver options:\n",
            "    https://scikit-learn.org/stable/modules/linear_model.html#logistic-regression\n",
            "  n_iter_i = _check_optimize_result(\n"
          ]
        },
        {
          "output_type": "execute_result",
          "data": {
            "text/plain": [
              "LogisticRegression()"
            ],
            "text/html": [
              "<style>#sk-container-id-1 {color: black;background-color: white;}#sk-container-id-1 pre{padding: 0;}#sk-container-id-1 div.sk-toggleable {background-color: white;}#sk-container-id-1 label.sk-toggleable__label {cursor: pointer;display: block;width: 100%;margin-bottom: 0;padding: 0.3em;box-sizing: border-box;text-align: center;}#sk-container-id-1 label.sk-toggleable__label-arrow:before {content: \"▸\";float: left;margin-right: 0.25em;color: #696969;}#sk-container-id-1 label.sk-toggleable__label-arrow:hover:before {color: black;}#sk-container-id-1 div.sk-estimator:hover label.sk-toggleable__label-arrow:before {color: black;}#sk-container-id-1 div.sk-toggleable__content {max-height: 0;max-width: 0;overflow: hidden;text-align: left;background-color: #f0f8ff;}#sk-container-id-1 div.sk-toggleable__content pre {margin: 0.2em;color: black;border-radius: 0.25em;background-color: #f0f8ff;}#sk-container-id-1 input.sk-toggleable__control:checked~div.sk-toggleable__content {max-height: 200px;max-width: 100%;overflow: auto;}#sk-container-id-1 input.sk-toggleable__control:checked~label.sk-toggleable__label-arrow:before {content: \"▾\";}#sk-container-id-1 div.sk-estimator input.sk-toggleable__control:checked~label.sk-toggleable__label {background-color: #d4ebff;}#sk-container-id-1 div.sk-label input.sk-toggleable__control:checked~label.sk-toggleable__label {background-color: #d4ebff;}#sk-container-id-1 input.sk-hidden--visually {border: 0;clip: rect(1px 1px 1px 1px);clip: rect(1px, 1px, 1px, 1px);height: 1px;margin: -1px;overflow: hidden;padding: 0;position: absolute;width: 1px;}#sk-container-id-1 div.sk-estimator {font-family: monospace;background-color: #f0f8ff;border: 1px dotted black;border-radius: 0.25em;box-sizing: border-box;margin-bottom: 0.5em;}#sk-container-id-1 div.sk-estimator:hover {background-color: #d4ebff;}#sk-container-id-1 div.sk-parallel-item::after {content: \"\";width: 100%;border-bottom: 1px solid gray;flex-grow: 1;}#sk-container-id-1 div.sk-label:hover label.sk-toggleable__label {background-color: #d4ebff;}#sk-container-id-1 div.sk-serial::before {content: \"\";position: absolute;border-left: 1px solid gray;box-sizing: border-box;top: 0;bottom: 0;left: 50%;z-index: 0;}#sk-container-id-1 div.sk-serial {display: flex;flex-direction: column;align-items: center;background-color: white;padding-right: 0.2em;padding-left: 0.2em;position: relative;}#sk-container-id-1 div.sk-item {position: relative;z-index: 1;}#sk-container-id-1 div.sk-parallel {display: flex;align-items: stretch;justify-content: center;background-color: white;position: relative;}#sk-container-id-1 div.sk-item::before, #sk-container-id-1 div.sk-parallel-item::before {content: \"\";position: absolute;border-left: 1px solid gray;box-sizing: border-box;top: 0;bottom: 0;left: 50%;z-index: -1;}#sk-container-id-1 div.sk-parallel-item {display: flex;flex-direction: column;z-index: 1;position: relative;background-color: white;}#sk-container-id-1 div.sk-parallel-item:first-child::after {align-self: flex-end;width: 50%;}#sk-container-id-1 div.sk-parallel-item:last-child::after {align-self: flex-start;width: 50%;}#sk-container-id-1 div.sk-parallel-item:only-child::after {width: 0;}#sk-container-id-1 div.sk-dashed-wrapped {border: 1px dashed gray;margin: 0 0.4em 0.5em 0.4em;box-sizing: border-box;padding-bottom: 0.4em;background-color: white;}#sk-container-id-1 div.sk-label label {font-family: monospace;font-weight: bold;display: inline-block;line-height: 1.2em;}#sk-container-id-1 div.sk-label-container {text-align: center;}#sk-container-id-1 div.sk-container {/* jupyter's `normalize.less` sets `[hidden] { display: none; }` but bootstrap.min.css set `[hidden] { display: none !important; }` so we also need the `!important` here to be able to override the default hidden behavior on the sphinx rendered scikit-learn.org. See: https://github.com/scikit-learn/scikit-learn/issues/21755 */display: inline-block !important;position: relative;}#sk-container-id-1 div.sk-text-repr-fallback {display: none;}</style><div id=\"sk-container-id-1\" class=\"sk-top-container\"><div class=\"sk-text-repr-fallback\"><pre>LogisticRegression()</pre><b>In a Jupyter environment, please rerun this cell to show the HTML representation or trust the notebook. <br />On GitHub, the HTML representation is unable to render, please try loading this page with nbviewer.org.</b></div><div class=\"sk-container\" hidden><div class=\"sk-item\"><div class=\"sk-estimator sk-toggleable\"><input class=\"sk-toggleable__control sk-hidden--visually\" id=\"sk-estimator-id-1\" type=\"checkbox\" checked><label for=\"sk-estimator-id-1\" class=\"sk-toggleable__label sk-toggleable__label-arrow\">LogisticRegression</label><div class=\"sk-toggleable__content\"><pre>LogisticRegression()</pre></div></div></div></div></div>"
            ]
          },
          "metadata": {},
          "execution_count": 76
        }
      ]
    },
    {
      "cell_type": "code",
      "source": [
        "log_reg.predict_proba(X_test)"
      ],
      "metadata": {
        "colab": {
          "base_uri": "https://localhost:8080/"
        },
        "id": "3xMrHnlkdhRr",
        "outputId": "550d97df-acce-4365-bfd7-29f1c5b10999"
      },
      "execution_count": null,
      "outputs": [
        {
          "output_type": "execute_result",
          "data": {
            "text/plain": [
              "array([[0.12647722, 0.87352278],\n",
              "       [0.09242453, 0.90757547],\n",
              "       [0.95099697, 0.04900303],\n",
              "       [0.21396884, 0.78603116],\n",
              "       [0.12786602, 0.87213398],\n",
              "       [0.01530424, 0.98469576],\n",
              "       [0.54364302, 0.45635698],\n",
              "       [0.10567354, 0.89432646],\n",
              "       [0.94570632, 0.05429368],\n",
              "       [0.16470078, 0.83529922],\n",
              "       [0.31598003, 0.68401997],\n",
              "       [0.10274755, 0.89725245],\n",
              "       [0.05677697, 0.94322303],\n",
              "       [0.02008371, 0.97991629],\n",
              "       [0.83594767, 0.16405233],\n",
              "       [0.86097115, 0.13902885],\n",
              "       [0.25662548, 0.74337452],\n",
              "       [0.73872844, 0.26127156],\n",
              "       [0.06047646, 0.93952354],\n",
              "       [0.55468866, 0.44531134],\n",
              "       [0.15604406, 0.84395594],\n",
              "       [0.91429397, 0.08570603],\n",
              "       [0.31022705, 0.68977295],\n",
              "       [0.32655657, 0.67344343],\n",
              "       [0.09525873, 0.90474127],\n",
              "       [0.97373841, 0.02626159],\n",
              "       [0.13560035, 0.86439965],\n",
              "       [0.72113232, 0.27886768],\n",
              "       [0.26817926, 0.73182074],\n",
              "       [0.38345475, 0.61654525],\n",
              "       [0.19434231, 0.80565769],\n",
              "       [0.38167819, 0.61832181],\n",
              "       [0.14347773, 0.85652227],\n",
              "       [0.55766302, 0.44233698],\n",
              "       [0.09141988, 0.90858012],\n",
              "       [0.01623972, 0.98376028],\n",
              "       [0.93386491, 0.06613509],\n",
              "       [0.21518736, 0.78481264],\n",
              "       [0.44505161, 0.55494839],\n",
              "       [0.9914594 , 0.0085406 ],\n",
              "       [0.96321354, 0.03678646],\n",
              "       [0.80899333, 0.19100667],\n",
              "       [0.87853082, 0.12146918],\n",
              "       [0.1589957 , 0.8410043 ],\n",
              "       [0.173097  , 0.826903  ],\n",
              "       [0.06981173, 0.93018827],\n",
              "       [0.26591465, 0.73408535],\n",
              "       [0.16385537, 0.83614463],\n",
              "       [0.03667484, 0.96332516],\n",
              "       [0.2121881 , 0.7878119 ],\n",
              "       [0.90505331, 0.09494669],\n",
              "       [0.62368423, 0.37631577],\n",
              "       [0.00995963, 0.99004037],\n",
              "       [0.52828158, 0.47171842],\n",
              "       [0.18060814, 0.81939186],\n",
              "       [0.29992103, 0.70007897],\n",
              "       [0.09112422, 0.90887578],\n",
              "       [0.29487879, 0.70512121],\n",
              "       [0.98867103, 0.01132897],\n",
              "       [0.08303022, 0.91696978],\n",
              "       [0.50404762, 0.49595238],\n",
              "       [0.12288206, 0.87711794],\n",
              "       [0.39121653, 0.60878347],\n",
              "       [0.09814811, 0.90185189],\n",
              "       [0.43535392, 0.56464608],\n",
              "       [0.85732833, 0.14267167],\n",
              "       [0.16271868, 0.83728132],\n",
              "       [0.52124435, 0.47875565],\n",
              "       [0.05992563, 0.94007437],\n",
              "       [0.24791803, 0.75208197],\n",
              "       [0.13381584, 0.86618416],\n",
              "       [0.93766022, 0.06233978],\n",
              "       [0.05031202, 0.94968798],\n",
              "       [0.15162411, 0.84837589],\n",
              "       [0.3861905 , 0.6138095 ],\n",
              "       [0.08681896, 0.91318104],\n",
              "       [0.95771756, 0.04228244],\n",
              "       [0.64054126, 0.35945874],\n",
              "       [0.96820806, 0.03179194],\n",
              "       [0.95256001, 0.04743999],\n",
              "       [0.1070266 , 0.8929734 ],\n",
              "       [0.21138329, 0.78861671],\n",
              "       [0.25438338, 0.74561662],\n",
              "       [0.88709764, 0.11290236],\n",
              "       [0.04810702, 0.95189298],\n",
              "       [0.27703873, 0.72296127],\n",
              "       [0.17916736, 0.82083264],\n",
              "       [0.98695979, 0.01304021],\n",
              "       [0.29996086, 0.70003914],\n",
              "       [0.23119932, 0.76880068],\n",
              "       [0.2325638 , 0.7674362 ]])"
            ]
          },
          "metadata": {},
          "execution_count": 77
        }
      ]
    },
    {
      "cell_type": "code",
      "source": [
        "print(log_reg.score(X_train, y_train))\n",
        "print(log_reg.score(X_test, y_test))\n"
      ],
      "metadata": {
        "colab": {
          "base_uri": "https://localhost:8080/"
        },
        "id": "wu3AllUJmlet",
        "outputId": "e21d9bbe-3b22-4a28-eeec-3fe1c00c72bf"
      },
      "execution_count": null,
      "outputs": [
        {
          "output_type": "stream",
          "name": "stdout",
          "text": [
            "0.8584905660377359\n",
            "0.8681318681318682\n"
          ]
        }
      ]
    },
    {
      "cell_type": "code",
      "source": [
        "ypred=log_reg.predict(X_test)\n",
        "ypred\n"
      ],
      "metadata": {
        "colab": {
          "base_uri": "https://localhost:8080/"
        },
        "id": "HTCSj1Pbdnvy",
        "outputId": "592a4430-7749-4a70-a0af-c3761c7e1069"
      },
      "execution_count": null,
      "outputs": [
        {
          "output_type": "execute_result",
          "data": {
            "text/plain": [
              "array([1, 1, 0, 1, 1, 1, 0, 1, 0, 1, 1, 1, 1, 1, 0, 0, 1, 0, 1, 0, 1, 0,\n",
              "       1, 1, 1, 0, 1, 0, 1, 1, 1, 1, 1, 0, 1, 1, 0, 1, 1, 0, 0, 0, 0, 1,\n",
              "       1, 1, 1, 1, 1, 1, 0, 0, 1, 0, 1, 1, 1, 1, 0, 1, 0, 1, 1, 1, 1, 0,\n",
              "       1, 0, 1, 1, 1, 0, 1, 1, 1, 1, 0, 0, 0, 0, 1, 1, 1, 0, 1, 1, 1, 0,\n",
              "       1, 1, 1])"
            ]
          },
          "metadata": {},
          "execution_count": 80
        }
      ]
    },
    {
      "cell_type": "code",
      "source": [
        "y_train_pred=log_reg.predict(X_train)"
      ],
      "metadata": {
        "id": "Yxx7opBHfF92"
      },
      "execution_count": null,
      "outputs": []
    },
    {
      "cell_type": "code",
      "source": [
        "#getting all scores for Logistic Regression\n",
        "from sklearn.metrics import accuracy_score\n",
        "from sklearn.metrics import precision_score\n",
        "from sklearn.metrics import recall_score\n",
        "from sklearn.metrics import f1_score\n",
        "from sklearn.metrics import roc_auc_score\n",
        "train_accuracy_log = round(accuracy_score(y_train_pred,y_train), 3)\n",
        "accuracy_log = round(accuracy_score(ypred,y_test), 3)\n",
        "precision_score_log = round(precision_score(ypred,y_test), 3)\n",
        "recall_score_log = round(recall_score(ypred,y_test), 3)\n",
        "f1_score_log = round(f1_score(ypred,y_test), 3)\n",
        "roc_score_log = round(roc_auc_score(ypred,y_test), 3)\n",
        "print(\"The accuracy on train data is \", train_accuracy_log)\n",
        "print(\"The accuracy on test data is \", accuracy_log)\n",
        "print(\"The precision on test data is \", precision_score_log)\n",
        "print(\"The recall on test data is \", recall_score_log)\n",
        "print(\"The f1 on test data is \", f1_score_log)\n",
        "print(\"The roc_score on test data is \", roc_score_log)"
      ],
      "metadata": {
        "colab": {
          "base_uri": "https://localhost:8080/"
        },
        "id": "EUkSA4lcfKWt",
        "outputId": "338c35eb-5081-4ddc-b014-e6b51ff7e834"
      },
      "execution_count": null,
      "outputs": [
        {
          "output_type": "stream",
          "name": "stdout",
          "text": [
            "The accuracy on train data is  0.858\n",
            "The accuracy on test data is  0.868\n",
            "The precision on test data is  0.945\n",
            "The recall on test data is  0.852\n",
            "The f1 on test data is  0.897\n",
            "The roc_score on test data is  0.876\n"
          ]
        }
      ]
    },
    {
      "cell_type": "code",
      "source": [
        "from sklearn.metrics import confusion_matrix\n",
        "cm = confusion_matrix(y_test,ypred)\n",
        "cm"
      ],
      "metadata": {
        "colab": {
          "base_uri": "https://localhost:8080/"
        },
        "id": "APNrD3xngYYW",
        "outputId": "a42e403e-bca8-49ba-faae-c43e70e7f6c0"
      },
      "execution_count": null,
      "outputs": [
        {
          "output_type": "execute_result",
          "data": {
            "text/plain": [
              "array([[27,  9],\n",
              "       [ 3, 52]])"
            ]
          },
          "metadata": {},
          "execution_count": 89
        }
      ]
    },
    {
      "cell_type": "code",
      "source": [
        "# Assuming you have a confusion matrix stored in 'cm'\n",
        "plt.figure(figsize=(7, 5))\n",
        "sns.heatmap(cm, annot=True, fmt=\"d\", cmap=\"Blues\")\n",
        "\n",
        "plt.xlabel('Predicted')\n",
        "plt.ylabel('Actual')\n",
        "plt.title('Confusion Matrix Heatmap')\n",
        "plt.show()\n"
      ],
      "metadata": {
        "colab": {
          "base_uri": "https://localhost:8080/",
          "height": 487
        },
        "id": "MiQ0XN7_gDef",
        "outputId": "1934c4e0-ebcf-4a9d-a2c6-59b1390ebc4b"
      },
      "execution_count": null,
      "outputs": [
        {
          "output_type": "display_data",
          "data": {
            "text/plain": [
              "<Figure size 700x500 with 2 Axes>"
            ],
            "image/png": "[encoded data removed]"
          },
          "metadata": {}
        }
      ]
    },
    {
      "cell_type": "markdown",
      "source": [
        "# **Random Forest Classifier**\n",
        "\n",
        "## Choosing the best depth value"
      ],
      "metadata": {
        "id": "c3mrRTLegj2i"
      }
    },
    {
      "cell_type": "code",
      "source": [
        "from sklearn.ensemble import RandomForestClassifier\n",
        "from sklearn.model_selection import cross_val_score\n",
        "max_depth=np.array([2,4,8,10,12,14,16,18])\n",
        "cross_val_rf=[]\n",
        "for d in max_depth:\n",
        "  rf_Classifier=RandomForestClassifier(max_depth=d, random_state=0)\n",
        "  rf_Classifier.fit(X_train,y_train)\n",
        "  print(\"Depth : \", d, \"cross_val_score : \", cross_val_score(rf_Classifier,X_train,y_train,cv = 10).mean())\n",
        "  cross_val_rf.append(cross_val_score(rf_Classifier,X_train,y_train,cv = 10).mean())"
      ],
      "metadata": {
        "colab": {
          "base_uri": "https://localhost:8080/"
        },
        "id": "o7c-184ygqJW",
        "outputId": "28552b67-9970-43b8-c92e-56242323194a"
      },
      "execution_count": null,
      "outputs": [
        {
          "output_type": "stream",
          "name": "stdout",
          "text": [
            "Depth :  2 cross_val_score :  0.8248917748917748\n",
            "Depth :  4 cross_val_score :  0.7967532467532468\n",
            "Depth :  8 cross_val_score :  0.8203463203463205\n",
            "Depth :  10 cross_val_score :  0.8203463203463205\n",
            "Depth :  12 cross_val_score :  0.8251082251082252\n",
            "Depth :  14 cross_val_score :  0.8251082251082252\n",
            "Depth :  16 cross_val_score :  0.8251082251082252\n",
            "Depth :  18 cross_val_score :  0.8251082251082252\n"
          ]
        }
      ]
    },
    {
      "cell_type": "code",
      "source": [
        "\n",
        "# Find the maximum cross-validation score and its corresponding depth\n",
        "max_cross_val_score = max(cross_val_rf)\n",
        "best_depth = max_depth[cross_val_rf.index(max_cross_val_score)]\n",
        "\n",
        "print(\"Best Depth:\", best_depth)\n",
        "print(\"Max Cross-Validation Score:\", max_cross_val_score)\n"
      ],
      "metadata": {
        "colab": {
          "base_uri": "https://localhost:8080/"
        },
        "id": "zEST04PyhFhn",
        "outputId": "6d267bdb-3842-448d-ffb6-a427c3782c72"
      },
      "execution_count": null,
      "outputs": [
        {
          "output_type": "stream",
          "name": "stdout",
          "text": [
            "Best Depth: 12\n",
            "Max Cross-Validation Score: 0.8251082251082252\n"
          ]
        }
      ]
    },
    {
      "cell_type": "markdown",
      "source": [
        "# Implementing Random Forest Classifier"
      ],
      "metadata": {
        "id": "QOiKy1q_g4i3"
      }
    },
    {
      "cell_type": "code",
      "source": [
        "\n",
        "rf_regressor=RandomForestClassifier(max_depth=4, random_state=42)\n",
        "rf_regressor.fit(X_train,y_train)\n"
      ],
      "metadata": {
        "colab": {
          "base_uri": "https://localhost:8080/",
          "height": 75
        },
        "id": "y1cNpxs8hHng",
        "outputId": "71a69113-04a3-43cc-ef03-5bbb91a6b2d9"
      },
      "execution_count": null,
      "outputs": [
        {
          "output_type": "execute_result",
          "data": {
            "text/plain": [
              "RandomForestClassifier(max_depth=4, random_state=42)"
            ],
            "text/html": [
              "<style>#sk-container-id-2 {color: black;background-color: white;}#sk-container-id-2 pre{padding: 0;}#sk-container-id-2 div.sk-toggleable {background-color: white;}#sk-container-id-2 label.sk-toggleable__label {cursor: pointer;display: block;width: 100%;margin-bottom: 0;padding: 0.3em;box-sizing: border-box;text-align: center;}#sk-container-id-2 label.sk-toggleable__label-arrow:before {content: \"▸\";float: left;margin-right: 0.25em;color: #696969;}#sk-container-id-2 label.sk-toggleable__label-arrow:hover:before {color: black;}#sk-container-id-2 div.sk-estimator:hover label.sk-toggleable__label-arrow:before {color: black;}#sk-container-id-2 div.sk-toggleable__content {max-height: 0;max-width: 0;overflow: hidden;text-align: left;background-color: #f0f8ff;}#sk-container-id-2 div.sk-toggleable__content pre {margin: 0.2em;color: black;border-radius: 0.25em;background-color: #f0f8ff;}#sk-container-id-2 input.sk-toggleable__control:checked~div.sk-toggleable__content {max-height: 200px;max-width: 100%;overflow: auto;}#sk-container-id-2 input.sk-toggleable__control:checked~label.sk-toggleable__label-arrow:before {content: \"▾\";}#sk-container-id-2 div.sk-estimator input.sk-toggleable__control:checked~label.sk-toggleable__label {background-color: #d4ebff;}#sk-container-id-2 div.sk-label input.sk-toggleable__control:checked~label.sk-toggleable__label {background-color: #d4ebff;}#sk-container-id-2 input.sk-hidden--visually {border: 0;clip: rect(1px 1px 1px 1px);clip: rect(1px, 1px, 1px, 1px);height: 1px;margin: -1px;overflow: hidden;padding: 0;position: absolute;width: 1px;}#sk-container-id-2 div.sk-estimator {font-family: monospace;background-color: #f0f8ff;border: 1px dotted black;border-radius: 0.25em;box-sizing: border-box;margin-bottom: 0.5em;}#sk-container-id-2 div.sk-estimator:hover {background-color: #d4ebff;}#sk-container-id-2 div.sk-parallel-item::after {content: \"\";width: 100%;border-bottom: 1px solid gray;flex-grow: 1;}#sk-container-id-2 div.sk-label:hover label.sk-toggleable__label {background-color: #d4ebff;}#sk-container-id-2 div.sk-serial::before {content: \"\";position: absolute;border-left: 1px solid gray;box-sizing: border-box;top: 0;bottom: 0;left: 50%;z-index: 0;}#sk-container-id-2 div.sk-serial {display: flex;flex-direction: column;align-items: center;background-color: white;padding-right: 0.2em;padding-left: 0.2em;position: relative;}#sk-container-id-2 div.sk-item {position: relative;z-index: 1;}#sk-container-id-2 div.sk-parallel {display: flex;align-items: stretch;justify-content: center;background-color: white;position: relative;}#sk-container-id-2 div.sk-item::before, #sk-container-id-2 div.sk-parallel-item::before {content: \"\";position: absolute;border-left: 1px solid gray;box-sizing: border-box;top: 0;bottom: 0;left: 50%;z-index: -1;}#sk-container-id-2 div.sk-parallel-item {display: flex;flex-direction: column;z-index: 1;position: relative;background-color: white;}#sk-container-id-2 div.sk-parallel-item:first-child::after {align-self: flex-end;width: 50%;}#sk-container-id-2 div.sk-parallel-item:last-child::after {align-self: flex-start;width: 50%;}#sk-container-id-2 div.sk-parallel-item:only-child::after {width: 0;}#sk-container-id-2 div.sk-dashed-wrapped {border: 1px dashed gray;margin: 0 0.4em 0.5em 0.4em;box-sizing: border-box;padding-bottom: 0.4em;background-color: white;}#sk-container-id-2 div.sk-label label {font-family: monospace;font-weight: bold;display: inline-block;line-height: 1.2em;}#sk-container-id-2 div.sk-label-container {text-align: center;}#sk-container-id-2 div.sk-container {/* jupyter's `normalize.less` sets `[hidden] { display: none; }` but bootstrap.min.css set `[hidden] { display: none !important; }` so we also need the `!important` here to be able to override the default hidden behavior on the sphinx rendered scikit-learn.org. See: https://github.com/scikit-learn/scikit-learn/issues/21755 */display: inline-block !important;position: relative;}#sk-container-id-2 div.sk-text-repr-fallback {display: none;}</style><div id=\"sk-container-id-2\" class=\"sk-top-container\"><div class=\"sk-text-repr-fallback\"><pre>RandomForestClassifier(max_depth=4, random_state=42)</pre><b>In a Jupyter environment, please rerun this cell to show the HTML representation or trust the notebook. <br />On GitHub, the HTML representation is unable to render, please try loading this page with nbviewer.org.</b></div><div class=\"sk-container\" hidden><div class=\"sk-item\"><div class=\"sk-estimator sk-toggleable\"><input class=\"sk-toggleable__control sk-hidden--visually\" id=\"sk-estimator-id-2\" type=\"checkbox\" checked><label for=\"sk-estimator-id-2\" class=\"sk-toggleable__label sk-toggleable__label-arrow\">RandomForestClassifier</label><div class=\"sk-toggleable__content\"><pre>RandomForestClassifier(max_depth=4, random_state=42)</pre></div></div></div></div></div>"
            ]
          },
          "metadata": {},
          "execution_count": 93
        }
      ]
    },
    {
      "cell_type": "code",
      "source": [
        "rfc = RandomForestClassifier( max_depth =4,random_state = 42)\n",
        "rfc.fit(X_train, y_train)\n",
        "print(rfc.score(X_train, y_train))\n",
        "print(rfc.score(X_test, y_test))\n"
      ],
      "metadata": {
        "colab": {
          "base_uri": "https://localhost:8080/"
        },
        "id": "OqV1UwxFhNqG",
        "outputId": "6dca3939-c201-4645-8fd7-d4b73aaa2a75"
      },
      "execution_count": null,
      "outputs": [
        {
          "output_type": "stream",
          "name": "stdout",
          "text": [
            "0.9056603773584906\n",
            "0.8351648351648352\n"
          ]
        }
      ]
    },
    {
      "cell_type": "code",
      "source": [
        "ypred_rf=rfc.predict(X_test)\n",
        "y_train_pred_rf=rfc.predict(X_train)\n"
      ],
      "metadata": {
        "id": "Zq_lGpczhPO2"
      },
      "execution_count": null,
      "outputs": []
    },
    {
      "cell_type": "code",
      "source": [
        "#getting all scores for RandomForestClassifier\n",
        "from sklearn.metrics import accuracy_score\n",
        "from sklearn.metrics import precision_score\n",
        "from sklearn.metrics import recall_score\n",
        "from sklearn.metrics import f1_score\n",
        "from sklearn.metrics import roc_auc_score\n",
        "train_accuracy_rf = round(accuracy_score(y_train_pred_rf,y_train), 3)\n",
        "accuracy_rf = round(accuracy_score(ypred_rf,y_test), 3)\n",
        "precision_score_rf = round(precision_score(ypred_rf,y_test), 3)\n",
        "recall_score_rf = round(recall_score(ypred_rf,y_test), 3)\n",
        "f1_score_rf= round(f1_score(ypred_rf,y_test), 3)\n",
        "roc_score_rf = round(roc_auc_score(ypred,y_test), 3)\n",
        "print(\"The accuracy on train data is \", train_accuracy_rf)\n",
        "print(\"The accuracy on test data is \", accuracy_rf)\n",
        "print(\"The precision on test data is \", precision_score_rf)\n",
        "print(\"The recall on test data is \", recall_score_rf)\n",
        "print(\"The f1 on test data is \", f1_score_rf)\n",
        "print(\"The roc_score on test data is \", roc_score_rf)"
      ],
      "metadata": {
        "colab": {
          "base_uri": "https://localhost:8080/"
        },
        "id": "lsLX4gRqhpP-",
        "outputId": "69aff736-901e-43e2-ffe4-b2a83f11a459"
      },
      "execution_count": null,
      "outputs": [
        {
          "output_type": "stream",
          "name": "stdout",
          "text": [
            "The accuracy on train data is  0.906\n",
            "The accuracy on test data is  0.835\n",
            "The precision on test data is  0.945\n",
            "The recall on test data is  0.812\n",
            "The f1 on test data is  0.874\n",
            "The roc_score on test data is  0.876\n"
          ]
        }
      ]
    },
    {
      "cell_type": "code",
      "source": [
        "from sklearn.metrics import confusion_matrix\n",
        "cm = confusion_matrix(y_test,ypred_rf)\n",
        "cm"
      ],
      "metadata": {
        "colab": {
          "base_uri": "https://localhost:8080/"
        },
        "id": "ZbSlxPYbiF-1",
        "outputId": "99d76e04-11c1-4363-addf-a77e0204cfcf"
      },
      "execution_count": null,
      "outputs": [
        {
          "output_type": "execute_result",
          "data": {
            "text/plain": [
              "array([[24, 12],\n",
              "       [ 3, 52]])"
            ]
          },
          "metadata": {},
          "execution_count": 97
        }
      ]
    },
    {
      "cell_type": "code",
      "source": [
        "# Get the classification_report for Random Forest Classifier\n",
        "from sklearn.metrics import classification_report\n",
        "print(classification_report(y_test,ypred_rf))\n"
      ],
      "metadata": {
        "colab": {
          "base_uri": "https://localhost:8080/"
        },
        "id": "qD4QWDnLiUfs",
        "outputId": "54ebf454-df38-414c-af19-9c554e90c0ed"
      },
      "execution_count": null,
      "outputs": [
        {
          "output_type": "stream",
          "name": "stdout",
          "text": [
            "              precision    recall  f1-score   support\n",
            "\n",
            "           0       0.89      0.67      0.76        36\n",
            "           1       0.81      0.95      0.87        55\n",
            "\n",
            "    accuracy                           0.84        91\n",
            "   macro avg       0.85      0.81      0.82        91\n",
            "weighted avg       0.84      0.84      0.83        91\n",
            "\n"
          ]
        }
      ]
    },
    {
      "cell_type": "markdown",
      "source": [
        "# Extreme Gradient Boosting Classifier"
      ],
      "metadata": {
        "id": "Z0AUv8Ozg56v"
      }
    },
    {
      "cell_type": "code",
      "source": [
        "import xgboost as xgb\n",
        "\n",
        "cross_val_xgb=[]\n",
        "for lr in [0.01,0.05,0.08,0.1,0.2,0.25,0.3]:\n",
        "  xgb_regressor= xgb.XGBRegressor(learning_rate = lr,n_estimators=100)\n",
        "  xgb_regressor.fit(X_train,y_train)\n",
        "  print(\"Learning rate : \", lr,\"cross_val_score:\", cross_val_score(xgb_regressor,X_train,y_train,cv = 15).mean())\n",
        "  cross_val_xgb.append(cross_val_score(xgb_regressor,X_train,y_train,cv = 15).mean())"
      ],
      "metadata": {
        "colab": {
          "base_uri": "https://localhost:8080/"
        },
        "id": "jY9YL27Qi39z",
        "outputId": "3f35899a-b9e8-402e-93db-6205efc74a02"
      },
      "execution_count": null,
      "outputs": [
        {
          "output_type": "stream",
          "name": "stdout",
          "text": [
            "Learning rate :  0.01 cross_val_score: 0.3056404177516535\n",
            "Learning rate :  0.05 cross_val_score: 0.3229233751702662\n",
            "Learning rate :  0.08 cross_val_score: 0.33078757789598456\n",
            "Learning rate :  0.1 cross_val_score: 0.33117878801799244\n",
            "Learning rate :  0.2 cross_val_score: 0.33802078969559896\n",
            "Learning rate :  0.25 cross_val_score: 0.3275737358294508\n",
            "Learning rate :  0.3 cross_val_score: 0.31560010216935586\n"
          ]
        }
      ]
    },
    {
      "cell_type": "code",
      "source": [
        "\n",
        "cross_val_xgb_regressor=max(cross_val_xgb)\n",
        "cross_val_xgb_regressor"
      ],
      "metadata": {
        "colab": {
          "base_uri": "https://localhost:8080/"
        },
        "id": "in1Egftfi7_S",
        "outputId": "0fd4aeb6-ce33-4408-c621-abd6a9394b85"
      },
      "execution_count": null,
      "outputs": [
        {
          "output_type": "execute_result",
          "data": {
            "text/plain": [
              "0.33802078969559896"
            ]
          },
          "metadata": {},
          "execution_count": 103
        }
      ]
    },
    {
      "cell_type": "code",
      "source": [
        "print(\"The best Learning rate is 0.2 and Cross_val_score is:\",cross_val_xgb_regressor)"
      ],
      "metadata": {
        "colab": {
          "base_uri": "https://localhost:8080/"
        },
        "id": "LOuhmEOYi96E",
        "outputId": "3f0664c0-a924-49cb-dd02-7a4214281f32"
      },
      "execution_count": null,
      "outputs": [
        {
          "output_type": "stream",
          "name": "stdout",
          "text": [
            "The best Learning rate is 0.2 and Cross_val_score is: 0.33802078969559896\n"
          ]
        }
      ]
    },
    {
      "cell_type": "markdown",
      "source": [
        "# Choosing the best Learning Rate"
      ],
      "metadata": {
        "id": "3EFSG-YWg8aH"
      }
    },
    {
      "cell_type": "code",
      "source": [
        "\n",
        " xgb_regressor= xgb.XGBRegressor(learning_rate =0.2,n_estimators=100) # initialise the model\n",
        " xgb_regressor.fit(X_train,y_train) #train the model"
      ],
      "metadata": {
        "colab": {
          "base_uri": "https://localhost:8080/",
          "height": 248
        },
        "id": "FmMcMVaqi_-a",
        "outputId": "e6d19e9e-493b-4397-c1b9-7e21ad91f3da"
      },
      "execution_count": null,
      "outputs": [
        {
          "output_type": "execute_result",
          "data": {
            "text/plain": [
              "XGBRegressor(base_score=None, booster=None, callbacks=None,\n",
              "             colsample_bylevel=None, colsample_bynode=None,\n",
              "             colsample_bytree=None, device=None, early_stopping_rounds=None,\n",
              "             enable_categorical=False, eval_metric=None, feature_types=None,\n",
              "             gamma=None, grow_policy=None, importance_type=None,\n",
              "             interaction_constraints=None, learning_rate=0.2, max_bin=None,\n",
              "             max_cat_threshold=None, max_cat_to_onehot=None,\n",
              "             max_delta_step=None, max_depth=None, max_leaves=None,\n",
              "             min_child_weight=None, missing=nan, monotone_constraints=None,\n",
              "             multi_strategy=None, n_estimators=100, n_jobs=None,\n",
              "             num_parallel_tree=None, random_state=None, ...)"
            ],
            "text/html": [
              "<style>#sk-container-id-4 {color: black;background-color: white;}#sk-container-id-4 pre{padding: 0;}#sk-container-id-4 div.sk-toggleable {background-color: white;}#sk-container-id-4 label.sk-toggleable__label {cursor: pointer;display: block;width: 100%;margin-bottom: 0;padding: 0.3em;box-sizing: border-box;text-align: center;}#sk-container-id-4 label.sk-toggleable__label-arrow:before {content: \"▸\";float: left;margin-right: 0.25em;color: #696969;}#sk-container-id-4 label.sk-toggleable__label-arrow:hover:before {color: black;}#sk-container-id-4 div.sk-estimator:hover label.sk-toggleable__label-arrow:before {color: black;}#sk-container-id-4 div.sk-toggleable__content {max-height: 0;max-width: 0;overflow: hidden;text-align: left;background-color: #f0f8ff;}#sk-container-id-4 div.sk-toggleable__content pre {margin: 0.2em;color: black;border-radius: 0.25em;background-color: #f0f8ff;}#sk-container-id-4 input.sk-toggleable__control:checked~div.sk-toggleable__content {max-height: 200px;max-width: 100%;overflow: auto;}#sk-container-id-4 input.sk-toggleable__control:checked~label.sk-toggleable__label-arrow:before {content: \"▾\";}#sk-container-id-4 div.sk-estimator input.sk-toggleable__control:checked~label.sk-toggleable__label {background-color: #d4ebff;}#sk-container-id-4 div.sk-label input.sk-toggleable__control:checked~label.sk-toggleable__label {background-color: #d4ebff;}#sk-container-id-4 input.sk-hidden--visually {border: 0;clip: rect(1px 1px 1px 1px);clip: rect(1px, 1px, 1px, 1px);height: 1px;margin: -1px;overflow: hidden;padding: 0;position: absolute;width: 1px;}#sk-container-id-4 div.sk-estimator {font-family: monospace;background-color: #f0f8ff;border: 1px dotted black;border-radius: 0.25em;box-sizing: border-box;margin-bottom: 0.5em;}#sk-container-id-4 div.sk-estimator:hover {background-color: #d4ebff;}#sk-container-id-4 div.sk-parallel-item::after {content: \"\";width: 100%;border-bottom: 1px solid gray;flex-grow: 1;}#sk-container-id-4 div.sk-label:hover label.sk-toggleable__label {background-color: #d4ebff;}#sk-container-id-4 div.sk-serial::before {content: \"\";position: absolute;border-left: 1px solid gray;box-sizing: border-box;top: 0;bottom: 0;left: 50%;z-index: 0;}#sk-container-id-4 div.sk-serial {display: flex;flex-direction: column;align-items: center;background-color: white;padding-right: 0.2em;padding-left: 0.2em;position: relative;}#sk-container-id-4 div.sk-item {position: relative;z-index: 1;}#sk-container-id-4 div.sk-parallel {display: flex;align-items: stretch;justify-content: center;background-color: white;position: relative;}#sk-container-id-4 div.sk-item::before, #sk-container-id-4 div.sk-parallel-item::before {content: \"\";position: absolute;border-left: 1px solid gray;box-sizing: border-box;top: 0;bottom: 0;left: 50%;z-index: -1;}#sk-container-id-4 div.sk-parallel-item {display: flex;flex-direction: column;z-index: 1;position: relative;background-color: white;}#sk-container-id-4 div.sk-parallel-item:first-child::after {align-self: flex-end;width: 50%;}#sk-container-id-4 div.sk-parallel-item:last-child::after {align-self: flex-start;width: 50%;}#sk-container-id-4 div.sk-parallel-item:only-child::after {width: 0;}#sk-container-id-4 div.sk-dashed-wrapped {border: 1px dashed gray;margin: 0 0.4em 0.5em 0.4em;box-sizing: border-box;padding-bottom: 0.4em;background-color: white;}#sk-container-id-4 div.sk-label label {font-family: monospace;font-weight: bold;display: inline-block;line-height: 1.2em;}#sk-container-id-4 div.sk-label-container {text-align: center;}#sk-container-id-4 div.sk-container {/* jupyter's `normalize.less` sets `[hidden] { display: none; }` but bootstrap.min.css set `[hidden] { display: none !important; }` so we also need the `!important` here to be able to override the default hidden behavior on the sphinx rendered scikit-learn.org. See: https://github.com/scikit-learn/scikit-learn/issues/21755 */display: inline-block !important;position: relative;}#sk-container-id-4 div.sk-text-repr-fallback {display: none;}</style><div id=\"sk-container-id-4\" class=\"sk-top-container\"><div class=\"sk-text-repr-fallback\"><pre>XGBRegressor(base_score=None, booster=None, callbacks=None,\n",
              "             colsample_bylevel=None, colsample_bynode=None,\n",
              "             colsample_bytree=None, device=None, early_stopping_rounds=None,\n",
              "             enable_categorical=False, eval_metric=None, feature_types=None,\n",
              "             gamma=None, grow_policy=None, importance_type=None,\n",
              "             interaction_constraints=None, learning_rate=0.2, max_bin=None,\n",
              "             max_cat_threshold=None, max_cat_to_onehot=None,\n",
              "             max_delta_step=None, max_depth=None, max_leaves=None,\n",
              "             min_child_weight=None, missing=nan, monotone_constraints=None,\n",
              "             multi_strategy=None, n_estimators=100, n_jobs=None,\n",
              "             num_parallel_tree=None, random_state=None, ...)</pre><b>In a Jupyter environment, please rerun this cell to show the HTML representation or trust the notebook. <br />On GitHub, the HTML representation is unable to render, please try loading this page with nbviewer.org.</b></div><div class=\"sk-container\" hidden><div class=\"sk-item\"><div class=\"sk-estimator sk-toggleable\"><input class=\"sk-toggleable__control sk-hidden--visually\" id=\"sk-estimator-id-4\" type=\"checkbox\" checked><label for=\"sk-estimator-id-4\" class=\"sk-toggleable__label sk-toggleable__label-arrow\">XGBRegressor</label><div class=\"sk-toggleable__content\"><pre>XGBRegressor(base_score=None, booster=None, callbacks=None,\n",
              "             colsample_bylevel=None, colsample_bynode=None,\n",
              "             colsample_bytree=None, device=None, early_stopping_rounds=None,\n",
              "             enable_categorical=False, eval_metric=None, feature_types=None,\n",
              "             gamma=None, grow_policy=None, importance_type=None,\n",
              "             interaction_constraints=None, learning_rate=0.2, max_bin=None,\n",
              "             max_cat_threshold=None, max_cat_to_onehot=None,\n",
              "             max_delta_step=None, max_depth=None, max_leaves=None,\n",
              "             min_child_weight=None, missing=nan, monotone_constraints=None,\n",
              "             multi_strategy=None, n_estimators=100, n_jobs=None,\n",
              "             num_parallel_tree=None, random_state=None, ...)</pre></div></div></div></div></div>"
            ]
          },
          "metadata": {},
          "execution_count": 121
        }
      ]
    },
    {
      "cell_type": "code",
      "source": [
        "from sklearn.ensemble import GradientBoostingClassifier\n",
        "gbc = GradientBoostingClassifier(n_estimators = 100, learning_rate = 0.01,random_state = 42)\n",
        "gbc.fit(X_train, y_train)\n",
        "print(gbc.score(X_train, y_train))\n",
        "print(gbc.score(X_test, y_test))"
      ],
      "metadata": {
        "colab": {
          "base_uri": "https://localhost:8080/"
        },
        "id": "QEM_4bgajCJh",
        "outputId": "569a638d-b69e-408d-e5d0-bc38e6ca3287"
      },
      "execution_count": null,
      "outputs": [
        {
          "output_type": "stream",
          "name": "stdout",
          "text": [
            "0.8915094339622641\n",
            "0.8131868131868132\n"
          ]
        }
      ]
    },
    {
      "cell_type": "code",
      "source": [
        "from sklearn.metrics import confusion_matrix\n",
        "cm = confusion_matrix(y_test,ypred_rf)\n",
        "cm"
      ],
      "metadata": {
        "colab": {
          "base_uri": "https://localhost:8080/"
        },
        "id": "wKgyfoYsjI_h",
        "outputId": "c8d02181-bddc-4308-8e1d-583a010108de"
      },
      "execution_count": null,
      "outputs": [
        {
          "output_type": "execute_result",
          "data": {
            "text/plain": [
              "array([[24, 12],\n",
              "       [ 3, 52]])"
            ]
          },
          "metadata": {},
          "execution_count": 116
        }
      ]
    },
    {
      "cell_type": "code",
      "source": [
        "import seaborn as sns\n",
        "import matplotlib.pyplot as plt\n",
        "\n",
        "# Assuming you have a confusion matrix stored in 'cm'\n",
        "plt.figure(figsize=(7, 5))\n",
        "sns.heatmap(cm, annot=True, fmt=\"d\", cmap=\"Blues\")\n",
        "\n",
        "plt.xlabel('Predicted')\n",
        "plt.ylabel('Actual')\n",
        "plt.title('Confusion Matrix Heatmap')\n",
        "plt.show()"
      ],
      "metadata": {
        "colab": {
          "base_uri": "https://localhost:8080/",
          "height": 487
        },
        "id": "Yzfum8J9jK5x",
        "outputId": "e3ccd6a5-2136-45bb-8b2a-5a91fb29fe8a"
      },
      "execution_count": null,
      "outputs": [
        {
          "output_type": "display_data",
          "data": {
            "text/plain": [
              "<Figure size 700x500 with 2 Axes>"
            ],
            "image/png": "[encoded data removed]"
          },
          "metadata": {}
        }
      ]
    },
    {
      "cell_type": "code",
      "source": [
        "import matplotlib.pyplot as plt\n",
        "from sklearn.metrics import roc_curve, roc_auc_score\n",
        "\n",
        "# Assuming you have already trained a logistic regression model (log_reg) and X_test, y_test data is available\n",
        "\n",
        "\n",
        "# Make predictions on the test data\n",
        "#y_test_predictions = log_reg.predict_proba(X_test)[:, 1]  # Use predicted probabilities for the positive class\n",
        "y_test_predictions =log_reg.predict(X_test)\n",
        "# Calculate the ROC curve\n",
        "fpr, tpr, thresholds = roc_curve(y_test, y_test_predictions)\n",
        "\n",
        "# Calculate the AUC (Area Under the Curve) for the ROC curve\n",
        "roc_auc = roc_auc_score(y_test, y_test_predictions)\n",
        "\n",
        "# Print the AUC score\n",
        "print(\"ROC AUC Score:\", roc_auc)\n",
        "\n",
        "# Plot the ROC curve\n",
        "plt.figure()\n",
        "plt.plot(fpr, tpr, label='ROC curve (area = %0.2f)' % roc_auc)\n",
        "#plt.plot(fpr, tpr, color='darkorange', lw=2, label='ROC curve (area = %0.2f)' % roc_auc)\n",
        "plt.plot([0, 1], [0, 1], color='navy', lw=2, linestyle='--')\n",
        "plt.xlim([0.0, 1.0])\n",
        "plt.ylim([0.0, 1.05])\n",
        "plt.xlabel('False Positive Rate')\n",
        "plt.ylabel('True Positive Rate')\n",
        "plt.title('Receiver Operating Characteristic')\n",
        "plt.legend(loc=\"lower right\")\n",
        "plt.show()\n"
      ],
      "metadata": {
        "colab": {
          "base_uri": "https://localhost:8080/",
          "height": 489
        },
        "id": "q4eP8dFxmKqo",
        "outputId": "b2d31a30-9584-44dc-b57d-a1d78a1e3415"
      },
      "execution_count": null,
      "outputs": [
        {
          "output_type": "stream",
          "name": "stdout",
          "text": [
            "ROC AUC Score: 0.8477272727272727\n"
          ]
        },
        {
          "output_type": "display_data",
          "data": {
            "text/plain": [
              "<Figure size 640x480 with 1 Axes>"
            ],
            "image/png": "[encoded data removed]"
          },
          "metadata": {}
        }
      ]
    },
    {
      "cell_type": "code",
      "source": [
        "import pickle\n",
        "filename = 'model_trained.pkl'\n",
        "pickle.dump(gbc, open(filename, 'wb'))"
      ],
      "metadata": {
        "id": "EKDav2umqZYI"
      },
      "execution_count": null,
      "outputs": []
    }
  ]
}